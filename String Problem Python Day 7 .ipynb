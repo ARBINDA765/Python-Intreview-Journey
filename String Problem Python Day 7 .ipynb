{
 "cells": [
  {
   "cell_type": "markdown",
   "id": "b38c1d02",
   "metadata": {},
   "source": [
    "# 1- Remove common characters and concatenate\n",
    "      s1 = \"aacdb\"\n",
    "      s2 = \"gafd\"\n",
    "    #Output: cbgf"
   ]
  },
  {
   "cell_type": "code",
   "execution_count": 1,
   "id": "abe1af4c",
   "metadata": {},
   "outputs": [
    {
     "name": "stdout",
     "output_type": "stream",
     "text": [
      "cbgf\n"
     ]
    }
   ],
   "source": [
    "#Approach-1\n",
    "s1 = \"aacdb\"\n",
    "s2 = \"gafd\"\n",
    "Result= \"\"\n",
    "for i in s1:\n",
    "    if (i not in s2) and (i not in Result):\n",
    "        Result+=i\n",
    "for j in s2:\n",
    "    if (j not in s1) and (j not in Result):\n",
    "        Result+=j\n",
    "print(Result)"
   ]
  },
  {
   "cell_type": "code",
   "execution_count": 2,
   "id": "3f177d1e",
   "metadata": {},
   "outputs": [
    {
     "name": "stdout",
     "output_type": "stream",
     "text": [
      "cgbf\n"
     ]
    }
   ],
   "source": [
    "#Approach-2\n",
    "s1 = \"aacdb\"\n",
    "s2 = \"gafd\"\n",
    "s1_list=[]\n",
    "s2_list=[]\n",
    "s=[]\n",
    "\n",
    "for i in s1:\n",
    "    if i not in s2:\n",
    "        s1_list.append(i)\n",
    "for j in s2:\n",
    "    if j not in s1:\n",
    "        s2_list.append(j)\n",
    "        s1_list.extend(s2_list)\n",
    "        z=list(set(s1_list))\n",
    "        \n",
    "        \n",
    "print(''.join(z)) \n"
   ]
  },
  {
   "cell_type": "code",
   "execution_count": 34,
   "id": "bd748bf6",
   "metadata": {},
   "outputs": [
    {
     "name": "stdout",
     "output_type": "stream",
     "text": [
      "cbgf\n"
     ]
    }
   ],
   "source": [
    "#Approach-3\n",
    "s1 = \"aacdb\"\n",
    "s2 = \"gafd\"\n",
    "set1=set(s1)\n",
    "set2=set(s2)\n",
    "\n",
    "uncommon1=''.join([i for i in s1 if i not in set2])\n",
    "uncommon2=''.join([char for char in s2 if char not in set1])\n",
    "Result=uncommon1+uncommon2\n",
    "if len(Result)==0:\n",
    "    print(-1)\n",
    "else:\n",
    "    print(Result)"
   ]
  },
  {
   "cell_type": "code",
   "execution_count": 8,
   "id": "b78c8c7e",
   "metadata": {},
   "outputs": [
    {
     "name": "stdout",
     "output_type": "stream",
     "text": [
      "{'d', 'a'}\n",
      "cbgf\n"
     ]
    }
   ],
   "source": [
    "#Approach-4\n",
    "s = \"aacdb\"\n",
    "p = \"gafd\"\n",
    "cms = set(s) & set(p)\n",
    "print(cms)\n",
    "rst = []\n",
    "for i in s:\n",
    "    if i not in cms:\n",
    "\n",
    "        rst.append(i)\n",
    "for i in p:\n",
    "    if i not in cms:\n",
    "\n",
    "        rst.append(i)\n",
    "if len(rst) == 0:\n",
    "            print(-1)\n",
    "else:\n",
    "    print( ''.join(rst))"
   ]
  },
  {
   "cell_type": "code",
   "execution_count": 39,
   "id": "b9f54e8c",
   "metadata": {},
   "outputs": [
    {
     "name": "stdout",
     "output_type": "stream",
     "text": [
      "cbgf\n"
     ]
    }
   ],
   "source": [
    "#Approach-5\n",
    "s1 = \"aacdb\"\n",
    "s2 = \"gafd\"\n",
    "S1=\"\"\n",
    "S2=\"\"\n",
    "s3=\"\"\n",
    "for i in s1:\n",
    "    if i not in s2:\n",
    "        S1+=i\n",
    "for char in s2:\n",
    "    if char not in s1:\n",
    "        S2+=char\n",
    "        s3=S1+S2\n",
    "if len(s3)==0:\n",
    "    print(-1)\n",
    "else:\n",
    "    print(s3)\n",
    "\n"
   ]
  },
  {
   "cell_type": "markdown",
   "id": "0994c0bf",
   "metadata": {},
   "source": [
    "# Anagram of String\n",
    "\n",
    "S1 = bcadeh\n",
    "\n",
    "S2 = hea\n",
    "\n",
    "Output: 3\n",
    "    \n",
    "Explanation: We need to remove b, c\n",
    "and d from S\n",
    "\n",
    "str1=\"cddgk\"\n",
    "\n",
    "str2=\"gcd\"\n",
    "\n",
    "Output: 2\n",
    "\n",
    "Explanation: We need to remove d and\n",
    "k from S1"
   ]
  },
  {
   "cell_type": "code",
   "execution_count": 14,
   "id": "db9db464",
   "metadata": {},
   "outputs": [
    {
     "name": "stdout",
     "output_type": "stream",
     "text": [
      "2\n"
     ]
    }
   ],
   "source": [
    "# function to calculate minimum numbers of characters\n",
    "# to be removed to make two strings anagram\n",
    "\n",
    "#Approach-1\n",
    "str1=\"cddgk\"\n",
    "str2=\"gcd\"\n",
    "list_ans=[]\n",
    "import collections\n",
    "st = set(str1 + str2)\n",
    "cnt1 = collections.Counter(str1)\n",
    "cnt2 = collections.Counter(str2)\n",
    "for sym in st:\n",
    "    list_ans.append((cnt1[sym]-cnt2[sym]))\n",
    "#print(sym,cnt1[sym],cnt2[sym])\n",
    "    \n",
    "print(sum(list_ans))\n",
    "    \n",
    "#Result=cnt1[sym]-cnt2[sym]\n",
    "#print(Result)\n",
    "#print(sym,cnt1[sym]-cnt2[sym])\n",
    "    \n",
    "#return sum((abs(cnt1[sym]-cnt2[sym]) for sym in st))\n",
    "    \n",
    "    \n"
   ]
  },
  {
   "cell_type": "code",
   "execution_count": 15,
   "id": "1f4f06e3",
   "metadata": {},
   "outputs": [
    {
     "name": "stdout",
     "output_type": "stream",
     "text": [
      "['c', 'd', 'd', 'g', 'k', 'g', 'c', 'd']\n",
      "['d', 'k'] []\n",
      "2\n"
     ]
    }
   ],
   "source": [
    "#Approach-2 by the help of list\n",
    "str1=\"cddgk\"\n",
    "str2=\"gcd\"\n",
    "#add code here\n",
    "lst1=list(str1)\n",
    "lst2=list(str2)\n",
    "lst3=lst1+lst2\n",
    "print(lst3)\n",
    "for i in lst3:\n",
    "    if i in lst1 and i in lst2:\n",
    "        lst1.remove(i)\n",
    "        lst2.remove(i)\n",
    "print(lst1,lst2)\n",
    "print(len(lst1)+len(lst2))"
   ]
  },
  {
   "cell_type": "code",
   "execution_count": 49,
   "id": "03d4f013",
   "metadata": {},
   "outputs": [
    {
     "name": "stdout",
     "output_type": "stream",
     "text": [
      "2\n"
     ]
    }
   ],
   "source": [
    "#Approach-3\n",
    "string = 'abcdefghijklmnopqrstuvwxyz'\n",
    "count = 0\n",
    "for i in string:\n",
    "    count += abs(str1.count(i) - str2.count(i))\n",
    "print(count)"
   ]
  },
  {
   "cell_type": "code",
   "execution_count": 52,
   "id": "12e54c8c",
   "metadata": {},
   "outputs": [
    {
     "name": "stdout",
     "output_type": "stream",
     "text": [
      "2\n"
     ]
    }
   ],
   "source": [
    "#Approach-4\n",
    "dict1={}\n",
    "for a in str1:\n",
    "    dict1[a]=dict1.get(a,0)+1\n",
    "    \n",
    "for a in str2:\n",
    "        dict1[a]=dict1.get(a,0)-1\n",
    "    \n",
    "total=0;\n",
    "for k,v in dict1.items():\n",
    "    total+=abs(v)\n",
    "print(total)"
   ]
  },
  {
   "cell_type": "code",
   "execution_count": null,
   "id": "74aa5968",
   "metadata": {},
   "outputs": [],
   "source": [
    "# function to calculate minimum numbers of characters\n",
    "# to be removed to make two strings anagram\n",
    "def remAnagram(S1,S2):\n",
    "    freq_S1 = {}\n",
    "    freq_S2 = {}\n",
    "\n",
    "    # Count character frequencies in S1\n",
    "    for char in S1:\n",
    "        freq_S1[char] = freq_S1.get(char, 0) + 1\n",
    "\n",
    "    # Count character frequencies in S2\n",
    "    for char in S2:\n",
    "        freq_S2[char] = freq_S2.get(char, 0) + 1\n",
    "\n",
    "    # Initialize deletions counter\n",
    "    deletions = 0\n",
    "\n",
    "    # Iterate through S1\n",
    "    for char in S1:\n",
    "        # If the character is not present in S2 or its frequency in S2 is 0\n",
    "        # then it needs to be deleted\n",
    "        if char not in S2 or freq_S2[char] == 0:\n",
    "            deletions += 1\n",
    "        # If the character is present in S2, decrease its frequency\n",
    "        else:\n",
    "            freq_S2[char] -= 1\n",
    "\n",
    "    # Iterate through S2\n",
    "    for char in S2:\n",
    "        # If the character is not present in S1 or its frequency in S1 is 0\n",
    "        # then it needs to be deleted\n",
    "        if char not in S1 or freq_S1[char] == 0:\n",
    "            deletions += 1\n",
    "        # If the character is present in S1, decrease its frequency\n",
    "        else:\n",
    "            freq_S1[char] -= 1\n",
    "\n",
    "    return deletions\n",
    "\n",
    "    \n",
    "    \n"
   ]
  },
  {
   "cell_type": "code",
   "execution_count": 54,
   "id": "e6ede52d",
   "metadata": {},
   "outputs": [
    {
     "name": "stdout",
     "output_type": "stream",
     "text": [
      "2\n"
     ]
    }
   ],
   "source": [
    "#Approach\n",
    "for i in str1:\n",
    "    if i in str2:\n",
    "        str1=str1.replace(i,'',1)\n",
    "        str2=str2.replace(i,'',1)\n",
    "        \n",
    "print(len(str1)+len(str2))"
   ]
  },
  {
   "cell_type": "markdown",
   "id": "9e200f7b",
   "metadata": {},
   "source": [
    "# Check if a string is Isogram or not\n",
    "\n",
    "Given a string S of lowercase alphabets, \n",
    "\n",
    "check if it is isogram or not. \n",
    "\n",
    "An Isogram is a string in which no letter occurs more than once"
   ]
  },
  {
   "cell_type": "raw",
   "id": "71fbc392",
   "metadata": {},
   "source": [
    "Input:\n",
    "S = machine\n",
    "Output: 1\n",
    "Explanation: machine is an isogram\n",
    "as no letter has appeared twice. Hence\n",
    "we print 1."
   ]
  },
  {
   "cell_type": "code",
   "execution_count": 23,
   "id": "0632bdc1",
   "metadata": {},
   "outputs": [
    {
     "name": "stdout",
     "output_type": "stream",
     "text": [
      "True\n",
      "True\n",
      "True\n",
      "True\n",
      "True\n",
      "True\n",
      "True\n"
     ]
    }
   ],
   "source": [
    "#Approach-1\n",
    "S=\"machine\"\n",
    "from collections import Counter\n",
    "S_Counter=Counter(S)\n",
    "for i in S_Counter.values():\n",
    "    if i ==1:\n",
    "        print(True)\n",
    "    else:\n",
    "        print(False)"
   ]
  },
  {
   "cell_type": "code",
   "execution_count": 63,
   "id": "5fe78b6c",
   "metadata": {},
   "outputs": [
    {
     "name": "stdout",
     "output_type": "stream",
     "text": [
      "True\n"
     ]
    }
   ],
   "source": [
    "#Approach-2\n",
    "#Function to check if a string is Isogram or not.\n",
    "counter_=0\n",
    "S=\"machine\"\n",
    "for i in S:\n",
    "    if S.count(i)==1:\n",
    "        counter_+=1\n",
    "if len(S)==counter_:\n",
    "    print(True)\n",
    "else:\n",
    "    print(False)\n",
    "             "
   ]
  },
  {
   "cell_type": "code",
   "execution_count": 27,
   "id": "c78b1dbc",
   "metadata": {},
   "outputs": [],
   "source": [
    "#Approach-3\n",
    "#Function to check if a string is Isogram or not.\n",
    "d = {}\n",
    "for i in s:\n",
    "    if i in d:\n",
    "        d[i] += 1 \n",
    "    else:\n",
    "        d[i] =1\n",
    "        \n",
    "for ii in d.values():\n",
    "    if ii !=1:\n",
    "        False\n",
    "                \n",
    "    else:\n",
    "        True"
   ]
  },
  {
   "cell_type": "code",
   "execution_count": 29,
   "id": "eb14648b",
   "metadata": {},
   "outputs": [
    {
     "name": "stdout",
     "output_type": "stream",
     "text": [
      "False\n"
     ]
    }
   ],
   "source": [
    "#Approach-4\n",
    "#Function to check if a string is Isogram or not.\n",
    "\n",
    "if len(s)==len(set(s)):\n",
    "    print(True)\n",
    "else:\n",
    "    print(False)"
   ]
  },
  {
   "cell_type": "code",
   "execution_count": 34,
   "id": "a730fe36",
   "metadata": {},
   "outputs": [
    {
     "name": "stdout",
     "output_type": "stream",
     "text": [
      "False\n",
      "dict_values([2, 1, 1, 1])\n"
     ]
    }
   ],
   "source": [
    "#Approach-5:\n",
    "import collections\n",
    "freqs = collections.Counter(s)\n",
    "if len(set(freqs.values())) == 1 and 1 in set(freqs.values()):\n",
    "    print(True)\n",
    "else:\n",
    "    print( False)"
   ]
  },
  {
   "cell_type": "code",
   "execution_count": null,
   "id": "ef885369",
   "metadata": {},
   "outputs": [],
   "source": [
    "\n",
    "#User function Template for python3\n",
    "\n",
    "class Solution:\n",
    "    \n",
    "    #Function to check if a string is Isogram or not.\n",
    "    def isIsogram(self,s):\n",
    "        #Your code here\n",
    "        default_dict = {}\n",
    "        for i in s:\n",
    "            if i not in default_dict:\n",
    "                count = s.count(i)\n",
    "                default_dict[i] = count\n",
    "                if count != 1:\n",
    "                    return False\n",
    "        else:\n",
    "            return True\n",
    "                \n",
    "            \n",
    "        \n"
   ]
  },
  {
   "cell_type": "code",
   "execution_count": null,
   "id": "dfa53cc7",
   "metadata": {},
   "outputs": [],
   "source": [
    "\n",
    "#User function Template for python3\n",
    "\n",
    "class Solution:\n",
    "    \n",
    "    #Function to check if a string is Isogram or not.\n",
    "    def isIsogram(self,s):\n",
    "        d={}\n",
    "        for i in s:\n",
    "            if i not in d:\n",
    "                d[i]=1\n",
    "            else:\n",
    "                d[i]+=1\n",
    "        c=0\n",
    "        for i in d:\n",
    "            if d[i]>1:\n",
    "                c=1\n",
    "        if c==0:\n",
    "            return True\n",
    "        else:\n",
    "            return False\n",
    "        \n"
   ]
  },
  {
   "cell_type": "code",
   "execution_count": null,
   "id": "6f36c78c",
   "metadata": {},
   "outputs": [],
   "source": [
    "\n",
    "#User function Template for python3\n",
    "\n",
    "class Solution:\n",
    "    \n",
    "    #Function to check if a string is Isogram or not.\n",
    "    def isIsogram(self,s):\n",
    "        #Your code here\n",
    "        r={}\n",
    "        for i in s:\n",
    "            if s.count(i)>1:\n",
    "                return (False)\n",
    "        return True       "
   ]
  }
 ],
 "metadata": {
  "kernelspec": {
   "display_name": "Python 3 (ipykernel)",
   "language": "python",
   "name": "python3"
  },
  "language_info": {
   "codemirror_mode": {
    "name": "ipython",
    "version": 3
   },
   "file_extension": ".py",
   "mimetype": "text/x-python",
   "name": "python",
   "nbconvert_exporter": "python",
   "pygments_lexer": "ipython3",
   "version": "3.9.13"
  }
 },
 "nbformat": 4,
 "nbformat_minor": 5
}
