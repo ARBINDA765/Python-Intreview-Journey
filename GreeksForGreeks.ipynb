{
 "cells": [
  {
   "cell_type": "markdown",
   "id": "c31ed328",
   "metadata": {},
   "source": [
    "# 1-Check Binary or not "
   ]
  },
  {
   "cell_type": "code",
   "execution_count": null,
   "id": "8fa90946",
   "metadata": {},
   "outputs": [],
   "source": [
    "#Approach-1\n",
    "def check(string) :\n",
    "    b = set(string)\n",
    "    s = {'0', '1'}\n",
    "    if s == b or b == {'0'} or b == {'1'}:\n",
    "        print(\"Binary String\")\n",
    "    else :\n",
    "        print(\"Non Binary String\")\n",
    "  \n",
    "s1= \"00110101\"\n",
    "# function calling\n",
    "check(s1)\n",
    "s2 = \"1010100200111\"\n",
    "check(s2)"
   ]
  },
  {
   "cell_type": "code",
   "execution_count": 14,
   "id": "d9f44c78",
   "metadata": {},
   "outputs": [],
   "source": [
    "#Approach-2\n",
    "def check_binary(string):\n",
    "    b=set(string)\n",
    "    s={'0','1'}\n",
    "    if s==b or b=={'0'} or b =={'1'}:\n",
    "        print(\"Binary String\")\n",
    "    else :\n",
    "        print(\"Non Binary String\")"
   ]
  },
  {
   "cell_type": "code",
   "execution_count": 16,
   "id": "e5caadc8",
   "metadata": {},
   "outputs": [
    {
     "name": "stdout",
     "output_type": "stream",
     "text": [
      "Non Binary String\n"
     ]
    }
   ],
   "source": [
    "check_binary('7601')"
   ]
  },
  {
   "cell_type": "code",
   "execution_count": 19,
   "id": "8b5a4d6c",
   "metadata": {},
   "outputs": [],
   "source": [
    "def check(s):\n",
    "    binary=\"01\"\n",
    "    flag=0\n",
    "    for char in s:\n",
    "        if char not in binary:\n",
    "            flag=1\n",
    "            break\n",
    "        else:\n",
    "            pass\n",
    "    if flag==1:\n",
    "        print(\"Not binary\")\n",
    "    else:\n",
    "        print(\"Binary\")\n"
   ]
  },
  {
   "cell_type": "code",
   "execution_count": 22,
   "id": "e76f60c9",
   "metadata": {},
   "outputs": [
    {
     "name": "stdout",
     "output_type": "stream",
     "text": [
      "Binary\n"
     ]
    }
   ],
   "source": [
    "check('10')"
   ]
  },
  {
   "cell_type": "code",
   "execution_count": null,
   "id": "4c810889",
   "metadata": {},
   "outputs": [],
   "source": [
    "# Return true if str is binary, else false\n",
    "def isBinary(str):\n",
    "    #code here\n",
    "    count=0\n",
    "    for i in str:\n",
    "        if(i=='0' or i=='1'):\n",
    "            count+=1\n",
    "    if(count==len(str)):\n",
    "        return 1\n",
    "    else:\n",
    "        return 0"
   ]
  },
  {
   "cell_type": "markdown",
   "id": "760d7396",
   "metadata": {},
   "source": [
    "# 2- Display longest name\n"
   ]
  },
  {
   "cell_type": "code",
   "execution_count": null,
   "id": "40639b56",
   "metadata": {},
   "outputs": [],
   "source": [
    "'''\n",
    "Given a list of names, display the longest name. If there are multiple names of the longest size then return the first occurring name .\n",
    "names = { \"Geek\", \"Geeks\", \"Geeksfor\", \"GeeksforGeek\", \"GeeksforGeeks\" }\n",
    "Output: GeeksforGeeks\n",
    "Explanation: name \"GeeksforGeeks\" has maximum length among all name\n",
    "'''"
   ]
  },
  {
   "cell_type": "code",
   "execution_count": 54,
   "id": "8574c36e",
   "metadata": {},
   "outputs": [],
   "source": [
    "#Approach 1\n",
    "def longest(names):\n",
    "        # code here\n",
    "        name_list=list(set(names))\n",
    "        len_ele=[]\n",
    "        for i in name_list:\n",
    "            len_ele.append(len(i))\n",
    "        name_zdict=dict(zip(len_ele,name_list))\n",
    "        return max(name_zdict.items())\n"
   ]
  },
  {
   "cell_type": "code",
   "execution_count": 56,
   "id": "b7bc2358",
   "metadata": {},
   "outputs": [
    {
     "data": {
      "text/plain": [
       "(20, 'ABCDEFGHIJKLMNOPQRST')"
      ]
     },
     "execution_count": 56,
     "metadata": {},
     "output_type": "execute_result"
    }
   ],
   "source": [
    "names = { \"Geek\", \"Geeks\", \"Geeksfor\", \"GeeksforGeek\", \"GeeksforGeeks\",\"ABCDEFGHIJKLMNOPQRST\"}\n",
    "longest(names)\n",
    "#print(max(name_zdict.items(), key=lambda x: x[1]))"
   ]
  },
  {
   "cell_type": "code",
   "execution_count": 60,
   "id": "2f5c8338",
   "metadata": {},
   "outputs": [],
   "source": [
    "#Approach -2\n",
    "def longest_2(names):\n",
    "        # code here\n",
    "        l = 0\n",
    "        longestName = ''\n",
    "        for i in names:\n",
    "            if(len(i)>l):\n",
    "                l = len(i)\n",
    "                longestName = i\n",
    "        return longestName\n"
   ]
  },
  {
   "cell_type": "code",
   "execution_count": 62,
   "id": "a2342020",
   "metadata": {},
   "outputs": [
    {
     "data": {
      "text/plain": [
       "'ABCDEFGHIJKLMNOPQRST'"
      ]
     },
     "execution_count": 62,
     "metadata": {},
     "output_type": "execute_result"
    }
   ],
   "source": [
    "names = { \"Geek\", \"Geeks\", \"Geeksfor\", \"GeeksforGeek\", \"GeeksforGeeks\",\"ABCDEFGHIJKLMNOPQRST\"}\n",
    "longest_2(names)\n"
   ]
  },
  {
   "cell_type": "code",
   "execution_count": null,
   "id": "9ffea105",
   "metadata": {},
   "outputs": [],
   "source": [
    "#Method 3: Iterate through the list using a loop and keep track of the longest string\n",
    "string_list = [\"hello\", \"world\", \"let's\", \"learn\", \"some\", \"Python\"]\n",
    "longest = \"\"\n",
    "for current_string in string_list:\n",
    "    if len(current_string) > len(longest):\n",
    "        longest = current_string \n",
    "print(longest) # Python"
   ]
  },
  {
   "cell_type": "markdown",
   "id": "d08e8632",
   "metadata": {},
   "source": [
    "# 3-Convert the string to lower Case\n",
    "\n",
    "s = \"LMNOppQQ\"\n",
    "\n",
    "Output: \"lmnoppqq\"\n",
    "\n",
    "Explanation: L, M, N, O, and Q are converted to l, m, n, o and q thus all uppercase characters of the string converted to lowercase letter."
   ]
  },
  {
   "cell_type": "code",
   "execution_count": 65,
   "id": "96ea0f27",
   "metadata": {},
   "outputs": [
    {
     "data": {
      "text/plain": [
       "'lmnoppqq'"
      ]
     },
     "execution_count": 65,
     "metadata": {},
     "output_type": "execute_result"
    }
   ],
   "source": [
    "s = \"LMNOppQQ\"\n",
    "s.lower()"
   ]
  },
  {
   "cell_type": "markdown",
   "id": "3d3cb00f",
   "metadata": {},
   "source": [
    "# 4-Given a string, remove spaces from it. \n"
   ]
  },
  {
   "cell_type": "code",
   "execution_count": 113,
   "id": "9c00e459",
   "metadata": {},
   "outputs": [
    {
     "data": {
      "text/plain": [
       "'ABCDEFGHIJKLMNOPQRST'"
      ]
     },
     "execution_count": 113,
     "metadata": {},
     "output_type": "execute_result"
    }
   ],
   "source": [
    "#Approach-1\n",
    "s=\"A BCDE FGH IJKLMNOP QRST\"\n",
    "s.replace(\" \",\"\")"
   ]
  },
  {
   "cell_type": "code",
   "execution_count": 121,
   "id": "b89eb648",
   "metadata": {},
   "outputs": [
    {
     "name": "stdout",
     "output_type": "stream",
     "text": [
      "ABC\n"
     ]
    }
   ],
   "source": [
    "# Python3 code to remove whitespace\n",
    "def remove(string):\n",
    "    ns=\"\"\n",
    "    for i in string:\n",
    "        if(not i.isspace()):\n",
    "            ns+=i\n",
    "    return ns \n",
    "# Driver Program\n",
    "string = ' A B C '\n",
    "print(remove(string))\n"
   ]
  },
  {
   "cell_type": "code",
   "execution_count": 155,
   "id": "d2aeb12f",
   "metadata": {},
   "outputs": [
    {
     "data": {
      "text/plain": [
       "'A B C'"
      ]
     },
     "execution_count": 155,
     "metadata": {},
     "output_type": "execute_result"
    }
   ],
   "source": [
    "s = ' A B C '\n",
    "s=\" \".join(s.split())\n",
    "s"
   ]
  },
  {
   "cell_type": "markdown",
   "id": "e396660e",
   "metadata": {},
   "source": [
    "# 5-Given a string s , return reverse of the string as output."
   ]
  },
  {
   "cell_type": "code",
   "execution_count": 67,
   "id": "df129ac9",
   "metadata": {},
   "outputs": [],
   "source": [
    "s = \"ReversE\"\n",
    "#Output: \"EsreveR\"\n",
    "#Explanation: Reverse string of \"ReversE\" will be \"EsreveR\""
   ]
  },
  {
   "cell_type": "code",
   "execution_count": 157,
   "id": "5037248d",
   "metadata": {},
   "outputs": [
    {
     "name": "stdout",
     "output_type": "stream",
     "text": [
      "The original string is : AbcD\n",
      "The reversed string(using loops) is : DcbA\n"
     ]
    }
   ],
   "source": [
    "#Approach-1\n",
    "def reverse(s):\n",
    "    str = \"\"\n",
    "    for i in s:\n",
    "        str = i + str\n",
    "    return str\n",
    "\n",
    "s = \"AbcD\"\n",
    "\n",
    "print(\"The original string is : \", end=\"\")\n",
    "print(s)\n",
    "\n",
    "print(\"The reversed string(using loops) is : \", end=\"\")\n",
    "print(reverse(s))\n"
   ]
  },
  {
   "cell_type": "code",
   "execution_count": 74,
   "id": "4f4539e2",
   "metadata": {},
   "outputs": [
    {
     "name": "stdout",
     "output_type": "stream",
     "text": [
      "The original string is : ABC\n",
      "The reversed string(using recursion) is : CBA\n"
     ]
    }
   ],
   "source": [
    "#Approach-2\n",
    "def reverse(s):\n",
    "    if len(s) == 0:\n",
    "        return s\n",
    "    else:\n",
    "        return reverse(s[1:]) + s[0]\n",
    "\n",
    "\n",
    "s = \"ABC\"\n",
    "\n",
    "print(\"The original string is : \", end=\"\")\n",
    "print(s)\n",
    "\n",
    "print(\"The reversed string(using recursion) is : \", end=\"\")\n",
    "print(reverse(s))\n"
   ]
  },
  {
   "cell_type": "markdown",
   "id": "82993db2",
   "metadata": {},
   "source": [
    "# Approach-3\n",
    "def reverse_string(s):\n",
    "    string = s[::-1]\n",
    "    return string"
   ]
  },
  {
   "cell_type": "code",
   "execution_count": 76,
   "id": "081dd3fd",
   "metadata": {},
   "outputs": [
    {
     "data": {
      "text/plain": [
       "'CBA'"
      ]
     },
     "execution_count": 76,
     "metadata": {},
     "output_type": "execute_result"
    }
   ],
   "source": [
    "s = \"ABC\"\n",
    "reverse_string(s)"
   ]
  },
  {
   "cell_type": "code",
   "execution_count": 112,
   "id": "21802166",
   "metadata": {},
   "outputs": [
    {
     "name": "stdout",
     "output_type": "stream",
     "text": [
      "The original string is : ABC\n",
      "The reversed string(using reversed) is : CBA\n"
     ]
    }
   ],
   "source": [
    "# Python code to reverse a string\n",
    "# using reversed()\n",
    "\n",
    "# Function to reverse a string\n",
    "def reverse(string):\n",
    "    string = \"\".join(reversed(string))\n",
    "    return string\n",
    "\n",
    "s = \"ABC\"\n",
    "\n",
    "print(\"The original string is : \", end=\"\")\n",
    "print(s)\n",
    "\n",
    "print(\"The reversed string(using reversed) is : \", end=\"\")\n",
    "print(reverse(s))\n"
   ]
  },
  {
   "cell_type": "markdown",
   "id": "91d2808f",
   "metadata": {},
   "source": [
    "# 6-# Convert String to List of Characters"
   ]
  },
  {
   "cell_type": "code",
   "execution_count": 77,
   "id": "c8ecb598",
   "metadata": {},
   "outputs": [
    {
     "name": "stdout",
     "output_type": "stream",
     "text": [
      "['A', 'r', 'a', 'b', 'i', 'n', 'd', 'a']\n"
     ]
    }
   ],
   "source": [
    "string_1=\"Arabinda\"\n",
    "list_of=[]\n",
    "for i in string_1:\n",
    "    list_of.append(i)\n",
    "print(list_of)"
   ]
  },
  {
   "cell_type": "markdown",
   "id": "07650153",
   "metadata": {},
   "source": [
    "# 7-Remove Duplicates from List¶"
   ]
  },
  {
   "cell_type": "code",
   "execution_count": 79,
   "id": "67b1cadc",
   "metadata": {},
   "outputs": [],
   "source": [
    "list_1=[1,1,2,2,3,4,5,]"
   ]
  },
  {
   "cell_type": "code",
   "execution_count": 88,
   "id": "65d95219",
   "metadata": {},
   "outputs": [],
   "source": [
    "#Approach 1\n",
    "list_1=[1,1,2,2,3,4,5,]\n",
    "no_duplicates=[]\n",
    "for i in list_1:\n",
    "    if  i not in no_duplicates:\n",
    "        no_duplicates.append(i)     "
   ]
  },
  {
   "cell_type": "code",
   "execution_count": 89,
   "id": "be8f27da",
   "metadata": {},
   "outputs": [
    {
     "data": {
      "text/plain": [
       "[1, 2, 3, 4, 5]"
      ]
     },
     "execution_count": 89,
     "metadata": {},
     "output_type": "execute_result"
    }
   ],
   "source": [
    "#Method 2: Sets\n",
    "number_list = [1, 1, 2, 6, 2, 5]\n",
    "list(set(number_list))"
   ]
  },
  {
   "cell_type": "markdown",
   "id": "fd2237e3",
   "metadata": {},
   "source": [
    "# 8. Check if List is Empty\n",
    "\n",
    "To check if a list is empty, all that needs to be done is to check it’s length. \n",
    "A length of zero denotes that the list is empty. However, be sure to check that the list exists before checking it’s\n",
    "length to find out if it is empty, or else you may get an error"
   ]
  },
  {
   "cell_type": "code",
   "execution_count": 91,
   "id": "789c7b7d",
   "metadata": {},
   "outputs": [
    {
     "name": "stdout",
     "output_type": "stream",
     "text": [
      "Its Non Empty List\n"
     ]
    }
   ],
   "source": [
    "empty_list = []\n",
    "\n",
    "\n",
    "if len(empty_list)>0:\n",
    "    print(\"Its a empty list\")\n",
    "else:\n",
    "    print(\"Its Non Empty List\")"
   ]
  },
  {
   "cell_type": "markdown",
   "id": "e00a900d",
   "metadata": {},
   "source": [
    "# 9. Check if String Contains Substring from List"
   ]
  },
  {
   "cell_type": "code",
   "execution_count": 105,
   "id": "13753634",
   "metadata": {},
   "outputs": [
    {
     "name": "stdout",
     "output_type": "stream",
     "text": [
      "True\n",
      "False\n"
     ]
    }
   ],
   "source": [
    "#Approach-1\n",
    "l = ['hello', 'world']\n",
    "contains = \"this string contains the word hello\"\n",
    "not_contains = \"this string contains no relevant words\"\n",
    "def check_contains(string_list, larger_string):\n",
    "    for w in string_list:\n",
    "        if w in larger_string:\n",
    "            return True\n",
    "    return False\n",
    "print(check_contains(l, contains)) # True\n",
    "print(check_contains(l, not_contains)) # False"
   ]
  },
  {
   "cell_type": "code",
   "execution_count": 104,
   "id": "a441d13a",
   "metadata": {},
   "outputs": [
    {
     "name": "stdout",
     "output_type": "stream",
     "text": [
      "True\n"
     ]
    }
   ],
   "source": [
    "#Approach-2\n",
    "l=set(l)\n",
    "contains = \"this string contains the word hello\"\n",
    "contains_s=contains.split()\n",
    "if len(l.intersection(contains_s))>0:\n",
    "    print(\"True\")\n",
    "else:\n",
    "    print(\"False\")"
   ]
  },
  {
   "cell_type": "code",
   "execution_count": 106,
   "id": "e65b6998",
   "metadata": {},
   "outputs": [
    {
     "name": "stdout",
     "output_type": "stream",
     "text": [
      "The original string is : Geeksforgeeks\n",
      "The reversed string(using reversed) is : skeegrofskeeG\n"
     ]
    }
   ],
   "source": [
    "# Python code to reverse a string\n",
    "# using reversed()\n",
    "\n",
    "# Function to reverse a string\n",
    "def reverse(string):\n",
    "\tstring = \"\".join(reversed(string))\n",
    "\treturn string\n",
    "\n",
    "s = \"Geeksforgeeks\"\n",
    "\n",
    "print(\"The original string is : \", end=\"\")\n",
    "print(s)\n",
    "\n",
    "print(\"The reversed string(using reversed) is : \", end=\"\")\n",
    "print(reverse(s))\n"
   ]
  },
  {
   "cell_type": "code",
   "execution_count": 153,
   "id": "ae86a4cf",
   "metadata": {},
   "outputs": [],
   "source": [
    "#Upper case conversion\n",
    "str = \"i love programming\"\n",
    "Store=''\n",
    "for i in str.split():\n",
    "    Store=Store+' '+ i.capitalize()\n",
    "    Store=Store.strip()\n",
    "\n"
   ]
  },
  {
   "cell_type": "code",
   "execution_count": 170,
   "id": "3953d4e0",
   "metadata": {},
   "outputs": [
    {
     "name": "stdout",
     "output_type": "stream",
     "text": [
      "The original string is : AbcD\n",
      "The reversed string(using loops) is : None\n"
     ]
    }
   ],
   "source": [
    "#Approach-1\n",
    "def reverse(s):\n",
    "    str = \"\"\n",
    "    vowels='aeiou'\n",
    "    for i in s:\n",
    "        if i in vowels.split():\n",
    "            str=i+str\n",
    "\n",
    "s = \"AbcD\"\n",
    "\n",
    "print(\"The original string is : \", end=\"\")\n",
    "print(s)\n",
    "\n",
    "print(\"The reversed string(using loops) is : \", end=\"\")\n",
    "print(reverse(s))\n"
   ]
  },
  {
   "cell_type": "markdown",
   "id": "bae64c56",
   "metadata": {},
   "source": [
    "# Function to reverse the order of vowels in a string|"
   ]
  },
  {
   "cell_type": "code",
   "execution_count": 212,
   "id": "2bea100c",
   "metadata": {},
   "outputs": [
    {
     "name": "stdout",
     "output_type": "stream",
     "text": [
      "w3resuorce\n",
      "Python\n",
      "Perl\n",
      "eSiAU\n"
     ]
    }
   ],
   "source": [
    "# Function to reverse the order of vowels in a string\n",
    "def reverse_vowels(str1):\n",
    "    vowels = \"\"  # Variable to store vowels in their original order\n",
    "    for char in str1:\n",
    "        if char in \"aeiouAEIOU\":  # Check if the character is a vowel\n",
    "            vowels += char  # Append the vowel to the vowels variable\n",
    "    result_string = \"\"  # Variable to store the result string with reversed vowels\n",
    "    for char in str1:\n",
    "        if char in \"aeiouAEIOU\":  # Check if the character is a vowel\n",
    "            result_string += vowels[-1]  # Append the last vowel from the vowels variable\n",
    "            vowels = vowels[:-1]  # Remove the last vowel from the vowels variable\n",
    "        else:\n",
    "            result_string += char  # Append non-vowel characters as they are\n",
    "    return result_string\n",
    "\n",
    "# Test cases\n",
    "print(reverse_vowels(\"w3resource\"))   \n",
    "print(reverse_vowels(\"Python\"))\n",
    "print(reverse_vowels(\"Perl\"))  \n",
    "print(reverse_vowels(\"USAie\"))  \n"
   ]
  },
  {
   "cell_type": "code",
   "execution_count": 202,
   "id": "108a093b",
   "metadata": {},
   "outputs": [
    {
     "name": "stdout",
     "output_type": "stream",
     "text": [
      "A\n",
      "Ae\n",
      "Aei\n",
      "ib\n",
      "ibc\n"
     ]
    }
   ],
   "source": [
    "str1=\"Abcei\"\n",
    "vowels = \"\"  # Variable to store vowels in their original order\n",
    "for char in str1:\n",
    "    if char in \"aeiouAEIOU\":  # Check if the character is a vowel\n",
    "        vowels += char  # Append the vowel to the vowels variable\n",
    "        print(vowels)\n",
    "        #print(vowels[:-1])\n",
    "result_string = \"\"  # Variable to store the result string with reversed vowels\n",
    "for char in str1:\n",
    "    if char in \"aeiouAEIOU\":  # Check if the character is a vowel\n",
    "        result_string += vowels[-1]  # Append the last vowel from the vowels variable\n",
    "        #print(result_string)\n",
    "        vowels = vowels[:-1]  # Remove the last vowel from the vowels variable\n",
    "        #print(vowels)\n",
    "    else:\n",
    "        result_string += char  # Append non-vowel characters as they are\n",
    "        print(result_string)"
   ]
  },
  {
   "cell_type": "markdown",
   "id": "1fafe674",
   "metadata": {},
   "source": [
    "# Remove vowels from string\n",
    "    \n"
   ]
  },
  {
   "cell_type": "code",
   "execution_count": null,
   "id": "8f24c28a",
   "metadata": {},
   "outputs": [],
   "source": [
    "str1 = \"Arab\"\n",
    "result_string=\"\"\n",
    "for i in str1:\n",
    "    if i not in \"aeiouAEIOU\":\n",
    "        result_string+=i\n",
    "print(result_string)\n",
    "        "
   ]
  },
  {
   "cell_type": "code",
   "execution_count": 226,
   "id": "a1bc40b4",
   "metadata": {},
   "outputs": [],
   "source": [
    "#Approach 1\n",
    "s='aylnlfdxfircvscxggb'\n",
    "no_duplicates=''\n",
    "for i in s:\n",
    "    if  i not in no_duplicates:\n",
    "        no_duplicates=no_duplicates+i"
   ]
  },
  {
   "cell_type": "code",
   "execution_count": 227,
   "id": "d2c29454",
   "metadata": {},
   "outputs": [
    {
     "data": {
      "text/plain": [
       "'aylnfdxircvsgb'"
      ]
     },
     "execution_count": 227,
     "metadata": {},
     "output_type": "execute_result"
    }
   ],
   "source": [
    "no_duplicates"
   ]
  },
  {
   "cell_type": "markdown",
   "id": "5c261c15",
   "metadata": {},
   "source": [
    "# Python3 program to find whether the string has all same characters or not."
   ]
  },
  {
   "cell_type": "code",
   "execution_count": 228,
   "id": "4edf3e6d",
   "metadata": {},
   "outputs": [],
   "source": [
    "# Python3 program to find whether the string has all same characters or not.\n",
    "\n",
    "# Function to check the string has\n",
    "# all same characters or not .\n",
    "def allCharactersSame(s) :\n",
    "    n = len(s)\n",
    "    for i in range(1, n) :\n",
    "        if s[i] != s[0] :\n",
    "            return False\n",
    "        return True\n",
    "\n"
   ]
  },
  {
   "cell_type": "code",
   "execution_count": 229,
   "id": "98768704",
   "metadata": {},
   "outputs": [
    {
     "data": {
      "text/plain": [
       "False"
      ]
     },
     "execution_count": 229,
     "metadata": {},
     "output_type": "execute_result"
    }
   ],
   "source": [
    "s='ASERTY UUY'\n",
    "allCharactersSame(s)"
   ]
  },
  {
   "cell_type": "code",
   "execution_count": null,
   "id": "aba2ddbd",
   "metadata": {},
   "outputs": [],
   "source": []
  }
 ],
 "metadata": {
  "kernelspec": {
   "display_name": "Python 3 (ipykernel)",
   "language": "python",
   "name": "python3"
  },
  "language_info": {
   "codemirror_mode": {
    "name": "ipython",
    "version": 3
   },
   "file_extension": ".py",
   "mimetype": "text/x-python",
   "name": "python",
   "nbconvert_exporter": "python",
   "pygments_lexer": "ipython3",
   "version": "3.9.13"
  }
 },
 "nbformat": 4,
 "nbformat_minor": 5
}
