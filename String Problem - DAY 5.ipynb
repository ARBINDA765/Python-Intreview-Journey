{
 "cells": [
  {
   "cell_type": "markdown",
   "id": "fc4a4e3b",
   "metadata": {},
   "source": [
    "# Pattern of Strings\n",
    "\n",
    "Input: S = \"GeeK\"\n",
    "\n",
    "Output: Geek\n",
    "\n",
    "        Gee\n",
    "        \n",
    "        Ge\n",
    "        \n",
    "        G\n",
    "        \n",
    "Explanation: Decrease one character \n",
    "\n",
    "after each line\n"
   ]
  },
  {
   "cell_type": "code",
   "execution_count": 268,
   "id": "57ae93be",
   "metadata": {},
   "outputs": [
    {
     "name": "stdout",
     "output_type": "stream",
     "text": [
      "1 1 1 1 1 \r\n",
      "2 2 2 2 \r\n",
      "3 3 3 \r\n",
      "4 4 \r\n",
      "5 \r\n"
     ]
    }
   ],
   "source": [
    "#Pattern\n",
    "rows = 5\n",
    "b = 0\n",
    "# reverse for loop from 5 to 0\n",
    "for i in range(rows, 0, -1):\n",
    "    b += 1\n",
    "    for j in range(1, i + 1):\n",
    "        print(b, end=' ')\n",
    "    print('\\r')"
   ]
  },
  {
   "cell_type": "code",
   "execution_count": 13,
   "id": "db9c9109",
   "metadata": {},
   "outputs": [
    {
     "name": "stdout",
     "output_type": "stream",
     "text": [
      "['ABCD', 'ABC', 'AB', 'A']\n"
     ]
    }
   ],
   "source": [
    "#Decreasing the character by one\n",
    "s=\"ABCD\"\n",
    "p=len(s)\n",
    "rs=[]\n",
    "for i in range(len(s)):\n",
    "    rs.append(s[:p])\n",
    "    p=p-1\n",
    "print(rs)"
   ]
  },
  {
   "cell_type": "code",
   "execution_count": 269,
   "id": "8fc05131",
   "metadata": {},
   "outputs": [],
   "source": [
    "#Find the Alpha,Digit & Special Character \n",
    "S = \"geeks01for02geeks03!!\"\n",
    "def Split_Strings(S):\n",
    "    S1=\"\"\n",
    "    S2=\"\"\n",
    "    S3=\"\"\n",
    "    \n",
    "    for i in S:\n",
    "        if i.isalpha():\n",
    "            S1=S1+i\n",
    "        elif i.isdigit():\n",
    "            S2=S2+i\n",
    "        elif not i.isdigit() and not i.isalpha():\n",
    "            S3=S3+i\n",
    "    return S1,S2,S3      "
   ]
  },
  {
   "cell_type": "code",
   "execution_count": 270,
   "id": "9da764fd",
   "metadata": {},
   "outputs": [
    {
     "data": {
      "text/plain": [
       "('geeksforgeeks', '010203', '!!')"
      ]
     },
     "execution_count": 270,
     "metadata": {},
     "output_type": "execute_result"
    }
   ],
   "source": [
    "S = \"geeks01for02geeks03!!\"\n",
    "Split_Strings(S)"
   ]
  },
  {
   "cell_type": "code",
   "execution_count": 273,
   "id": "d73ddf01",
   "metadata": {},
   "outputs": [
    {
     "name": "stdout",
     "output_type": "stream",
     "text": [
      "('geeksforgeeks', '010203', '$$!@!!')\n"
     ]
    }
   ],
   "source": [
    "# Python 3 program to split an alphanumeric \n",
    "# string using STL \n",
    "#Approach-2\n",
    "def splitString(str): \n",
    "    alpha = \"\" \n",
    "    num = \"\" \n",
    "    special = \"\" \n",
    "    for i in range(len(str)): \n",
    "        if (str[i].isdigit()): \n",
    "            num = num+ str[i] \n",
    "        elif((str[i] >= 'A' and str[i] <= 'Z') or\n",
    "             (str[i] >= 'a' and str[i] <= 'z')): \n",
    "            alpha += str[i] \n",
    "        else: \n",
    "            special += str[i] \n",
    "    return alpha,num,special\n",
    "\n",
    "\n",
    "\n",
    "str = \"geeks01$$for02geeks03!@!!\"\n",
    "print(splitString(str)) \n",
    "\n",
    "\n"
   ]
  },
  {
   "cell_type": "markdown",
   "id": "42f1d977",
   "metadata": {},
   "source": [
    "# 3- Given a string s, extract all the integers from s."
   ]
  },
  {
   "cell_type": "raw",
   "id": "f517f79e",
   "metadata": {},
   "source": [
    "Input:\n",
    "s = \"1: Prakhar Agrawal, 2: Manish Kumar Rai, \n",
    "     3: Rishabh Gupta56\"\n",
    "Output: 1 2 3 56\n",
    "Explanation: \n",
    "1, 2, 3, 56 are the integers present in s."
   ]
  },
  {
   "cell_type": "code",
   "execution_count": 275,
   "id": "1653cb8b",
   "metadata": {},
   "outputs": [],
   "source": [
    "s = \"1: Prakhar Agrawal, 2: Manish Kumar Rai,3: Rishabh Gupta56\""
   ]
  },
  {
   "cell_type": "code",
   "execution_count": 288,
   "id": "2ce4ce17",
   "metadata": {},
   "outputs": [
    {
     "name": "stdout",
     "output_type": "stream",
     "text": [
      "['1', '2', '3', '56']\n"
     ]
    }
   ],
   "source": [
    "#User function Template for python3\n",
    "#Approach - 1\n",
    "result = \"\"\n",
    "for char in s:\n",
    "    if char.isdigit():\n",
    "        result += char \n",
    "    else:\n",
    "        result += \" \"\n",
    "num_list = result.split()\n",
    "print(num_list)"
   ]
  },
  {
   "cell_type": "code",
   "execution_count": 289,
   "id": "fd6d8094",
   "metadata": {},
   "outputs": [
    {
     "name": "stdout",
     "output_type": "stream",
     "text": [
      "re.compile('\\\\d+')\n",
      "['1', '2', '3', '56']\n"
     ]
    }
   ],
   "source": [
    "#Approach-2\n",
    "import re\n",
    "n=re.compile( r'\\d+')\n",
    "print(n)\n",
    "k=n.findall(s)\n",
    "print(k)\n",
    "\n"
   ]
  },
  {
   "cell_type": "markdown",
   "id": "d7688d53",
   "metadata": {},
   "source": [
    "# 4- Program to print reciprocal of letters\n",
    "\n",
    "Input:\n",
    "S = \"ab C\"\n",
    "\n",
    "Output:\n",
    "\n",
    "zy X\n",
    "\n",
    "Explanation:\n",
    "\n",
    "The reciprocal of the first letter 'a' is 'z'.\n",
    "\n",
    "The reciprocal of the second letter 'b' is 'y'.\n",
    "\n",
    "The reciprocal of the third letter ' ' is ' '.\n",
    "\n",
    "The reciprocal of the last letter 'C' is 'X'."
   ]
  },
  {
   "cell_type": "code",
   "execution_count": 290,
   "id": "d0df8932",
   "metadata": {},
   "outputs": [
    {
     "name": "stdout",
     "output_type": "stream",
     "text": [
      "zy x\n"
     ]
    }
   ],
   "source": [
    "s= \"ab c\"\n",
    "a = \"\"\n",
    "for i in range(len(s)):\n",
    "    if s[i].isupper():\n",
    "        a+= chr(ord('A')+(ord('Z')-ord(s[i])))\n",
    "    elif s[i].islower():\n",
    "        a+= chr(ord('a')+(ord('z')-ord(s[i])))\n",
    "    else:\n",
    "        a+=s[i]\n",
    "print(a)\n"
   ]
  },
  {
   "cell_type": "code",
   "execution_count": 291,
   "id": "9ddd7fb0",
   "metadata": {},
   "outputs": [
    {
     "name": "stdout",
     "output_type": "stream",
     "text": [
      "zy x\n"
     ]
    }
   ],
   "source": [
    "#Approach-2\n",
    "# code here\n",
    "S= \"ab c\"\n",
    "import string\n",
    "stack=string.ascii_lowercase\n",
    "new_stack=[]\n",
    "        \n",
    "for i in S:\n",
    "    if i.isalpha():\n",
    "        if i.islower():\n",
    "            new_stack.append(stack[25-stack.index(i)])\n",
    "        else:\n",
    "            new_stack.append(stack.upper()[25-stack.upper().index(i)])\n",
    "    else:\n",
    "        new_stack.append(i)\n",
    "        \n",
    "print( \"\".join(new_stack))\n",
    "                "
   ]
  },
  {
   "cell_type": "markdown",
   "id": "3e820a84",
   "metadata": {},
   "source": [
    "# 5- Front-Back Transformation - copy\n",
    "\n",
    "Input: S = \"Hello\"\n",
    "\n",
    "Output: Svo\n"
   ]
  },
  {
   "cell_type": "code",
   "execution_count": 261,
   "id": "213c4bb4",
   "metadata": {},
   "outputs": [
    {
     "name": "stdout",
     "output_type": "stream",
     "text": [
      "Svool\n"
     ]
    }
   ],
   "source": [
    "S=\"Hello\"\n",
    "result=\"\"\n",
    "for i in range(len(S)):\n",
    "    if S[i].isupper():\n",
    "        result+=chr(ord('A')+(ord('Z')-ord(S[i])))    \n",
    "    elif S[i].islower():\n",
    "        result+=chr(ord('a')+(ord('z')-ord(S[i])))  \n",
    "    else:\n",
    "        result+=S[i]\n",
    "print(result)\n",
    "    \n",
    "    "
   ]
  },
  {
   "cell_type": "markdown",
   "id": "9a50783f",
   "metadata": {},
   "source": [
    "# 6- Triangle shrinking downwards\n"
   ]
  },
  {
   "cell_type": "code",
   "execution_count": 296,
   "id": "35eb3823",
   "metadata": {},
   "outputs": [
    {
     "name": "stdout",
     "output_type": "stream",
     "text": [
      "AAAA*BBB**CC***D\n"
     ]
    }
   ],
   "source": [
    "S=\"ABCD\"\n",
    "K=\"\"\n",
    "for i in range(len(S)):\n",
    "    for j in range(len(S)):\n",
    "        if i > j:\n",
    "            K=K+('*')\n",
    "        else:\n",
    "            K=K+S[i]\n",
    "print(K)"
   ]
  },
  {
   "cell_type": "code",
   "execution_count": 266,
   "id": "565f7d13",
   "metadata": {},
   "outputs": [
    {
     "name": "stdout",
     "output_type": "stream",
     "text": [
      "ABCD.BCD..CD...D\n"
     ]
    }
   ],
   "source": [
    "# code here\n",
    "l = \"\"\n",
    "for i in range(0,len(S)):\n",
    "    l += (i*\".\")+S[i:]\n",
    "print(l)\n"
   ]
  },
  {
   "cell_type": "code",
   "execution_count": null,
   "id": "ed4d7cc4",
   "metadata": {},
   "outputs": [],
   "source": []
  }
 ],
 "metadata": {
  "kernelspec": {
   "display_name": "Python 3 (ipykernel)",
   "language": "python",
   "name": "python3"
  },
  "language_info": {
   "codemirror_mode": {
    "name": "ipython",
    "version": 3
   },
   "file_extension": ".py",
   "mimetype": "text/x-python",
   "name": "python",
   "nbconvert_exporter": "python",
   "pygments_lexer": "ipython3",
   "version": "3.9.13"
  }
 },
 "nbformat": 4,
 "nbformat_minor": 5
}
