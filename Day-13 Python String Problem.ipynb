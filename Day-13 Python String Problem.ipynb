{
 "cells": [
  {
   "cell_type": "markdown",
   "id": "c9d5c72f",
   "metadata": {},
   "source": [
    "# 1- Floating point number even or odd\n",
    "\n",
    "     Given a floating point number in string format s, check whether it is even or odd.\n",
    " \n",
    "\n",
    "    Example 1:\n",
    "\n",
    "    Input: \n",
    "    n = 4\n",
    "    s = 97.8\n",
    "    Output: EVEN\n",
    "    Explanation: 8 is even number.\n",
    "\n",
    "    Example 2:\n",
    "\n",
    "    Input:\n",
    "    n = 6\n",
    "    s = 100.70\n",
    "    Output: ODD\n",
    "    Explanation: Trailing 0s after dot do not matter."
   ]
  },
  {
   "cell_type": "markdown",
   "id": "a30ac20f",
   "metadata": {},
   "source": [
    "# without N Value\n",
    "\n",
    "        \n",
    "        \n",
    "\n",
    "\n",
    "\n"
   ]
  },
  {
   "cell_type": "code",
   "execution_count": null,
   "id": "34b22b68",
   "metadata": {},
   "outputs": [],
   "source": [
    "s=\"4.100\"\n",
    "total_len=len(s)-1\n",
    "starting_len=len(s.split('.')[0])\n",
    "remaining_len=total_len-starting_len\n",
    "for i in range(1,remaining_len+1):\n",
    "    if s[-i]==0:\n",
    "        s=s.replace(-i,'')\n",
    "if int(s[-i]) %2==0:\n",
    "    print(\"EVEN\")\n",
    "else:\n",
    "    print(\"ODD\")\n",
    "    \n",
    "       "
   ]
  },
  {
   "cell_type": "markdown",
   "id": "09ac3952",
   "metadata": {},
   "source": [
    "# Nvalue provided"
   ]
  },
  {
   "cell_type": "code",
   "execution_count": 8,
   "id": "af63bc9f",
   "metadata": {},
   "outputs": [
    {
     "name": "stdout",
     "output_type": "stream",
     "text": [
      "ODD\n"
     ]
    }
   ],
   "source": [
    "n = 6\n",
    "s = \"100.70\"\n",
    "for i in range (n):\n",
    "    if s[n-1-i] =='0' or s[n-1-i] =='.' :\n",
    "        continue\n",
    "if int(s[n-1-i])%2==0:\n",
    "    print(\"EVEN\")\n",
    "else:\n",
    "    print(\"ODD\")\n",
    "\n"
   ]
  },
  {
   "cell_type": "markdown",
   "id": "192d1a9c",
   "metadata": {},
   "source": [
    "# 2-Message decoding\n",
    "\n",
    "    Given a string S, check whether it can be converted into the string \"hello\" by deleting some characters from it.\n",
    "    Note : S can have both uppercase and lowercase letters.\n",
    "\n",
    "    Example 1:\n",
    "\n",
    "    Input:\n",
    "    S = \"bbbbbxxhhelllllooudd\"\n",
    "    Output: 1\n",
    "    Explanation: The string hello is marked\n",
    "    in bold: bbbbbxxhhelllllooudd\n",
    "\n",
    "    â€‹Example 2:\n",
    "\n",
    "    Input: \n",
    "    S = \"hlelo\"\n",
    "    Output: 0\n",
    "    Explanation: It's impossible to convert\n",
    "    the given string into \"hello\".\n",
    "\n",
    "    Your Task:\n",
    "    You don't need to read input or print anything. Your task is to complete the function decode() which takes the string S as input and returns the true if the string can be converted to \"hello\", else return false"
   ]
  },
  {
   "cell_type": "code",
   "execution_count": 14,
   "id": "a131497c",
   "metadata": {},
   "outputs": [
    {
     "name": "stdout",
     "output_type": "stream",
     "text": [
      "True\n",
      "False\n"
     ]
    }
   ],
   "source": [
    "#target = \"hello\"\n",
    "target_index = 0\n",
    "for char in S:\n",
    "    if target_index < len(target) and char == target[target_index]:\n",
    "            target_index += 1\n",
    "    \n",
    "    return target_index == len(target)\n",
    "\n",
    "# Test cases\n",
    "print(decode(\"bbbbbxxhhelllllooudd\"))  # Output: True\n",
    "print(decode(\"hlelo\"))                 # Output: False\n"
   ]
  },
  {
   "cell_type": "markdown",
   "id": "b3fe4485",
   "metadata": {},
   "source": [
    "# 3- longest substring containing '1'\n",
    " \n",
    "    Given a function that takes a binary string. The task is to return the longest size of contiguous substring containing only ‘1’.\n",
    "\n",
    "    Input:\n",
    "    The first line of input contains an integer T denoting the no of test cases.Then T test cases follow. Each test case contains a string S.\n",
    "\n",
    "    Output:\n",
    "    For each test case return the maximum length of required sub string.\n",
    "\n",
    "    Constraints: \n",
    "    1<=T<=100\n",
    "    1<=|string length|<=104\n",
    "\n",
    "    Example:\n",
    "    Input:\n",
    "    2\n",
    "    110\n",
    "    11101110\n",
    "    Output:\n",
    "    2\n",
    "    3"
   ]
  },
  {
   "cell_type": "code",
   "execution_count": 53,
   "id": "58c10636",
   "metadata": {},
   "outputs": [
    {
     "data": {
      "text/plain": [
       "3"
      ]
     },
     "execution_count": 53,
     "metadata": {},
     "output_type": "execute_result"
    }
   ],
   "source": [
    "#User function Template for python3\n",
    "#Appraoch-1\n",
    "import re\n",
    "def maxlength(s):\n",
    "    \n",
    "    #add code here\n",
    "    return len(max(re.findall(r\"1+\", s), key = len, default=\"\"))\n",
    "\n",
    "\n",
    "\n",
    "\n",
    "maxlength(s)   "
   ]
  },
  {
   "cell_type": "code",
   "execution_count": 61,
   "id": "f4dcf9af",
   "metadata": {},
   "outputs": [
    {
     "data": {
      "text/plain": [
       "3"
      ]
     },
     "execution_count": 61,
     "metadata": {},
     "output_type": "execute_result"
    }
   ],
   "source": [
    "#User function Template for python3\n",
    "\n",
    "#Approach-2\n",
    "def maxlength(s):\n",
    "    \n",
    "    #add code here\n",
    "    cnt='';si=[]\n",
    "    i=0\n",
    "    while i<len(s):\n",
    "        if s[i]=='1':\n",
    "            cnt+=s[i]\n",
    "        else:\n",
    "            si.append(cnt)\n",
    "            cnt=''\n",
    "        i+=1\n",
    "   # if s[-1]=='1':si.append(cnt)\n",
    "    max_length = max(len(string) for string in si)\n",
    "    return max_length\n",
    "maxlength(s)\n"
   ]
  },
  {
   "cell_type": "code",
   "execution_count": 59,
   "id": "ee7effdc",
   "metadata": {},
   "outputs": [],
   "source": [
    "#User function Template for python3\n",
    "#Approach-3\n",
    "#Without Re function\n",
    "def maxlength(s):\n",
    "    c = 0\n",
    "    count = 0\n",
    "    #add code here\n",
    "    for i in range(len(s)):\n",
    "        if s[i] == '1':\n",
    "            c += 1\n",
    "        else:\n",
    "            c = 0\n",
    "        count = max(c, count)\n",
    "    return count\n"
   ]
  },
  {
   "cell_type": "code",
   "execution_count": 62,
   "id": "6fdc148d",
   "metadata": {},
   "outputs": [],
   "source": [
    "#Approach-4\n",
    "import re\n",
    "#User function Template for python3\n",
    "\n",
    "def maxlength(s):\n",
    "    \n",
    "    #add code here\n",
    "    pattern=\"1+\"\n",
    "    \n",
    "    lst=re.findall(pattern,s)\n",
    "    \n",
    "    length=0\n",
    "    \n",
    "    for string in lst:\n",
    "        length=max(len(string),length)\n",
    "        \n",
    "    return length"
   ]
  },
  {
   "cell_type": "markdown",
   "id": "a539683d",
   "metadata": {},
   "source": [
    "# 4-#Sum of dict values "
   ]
  },
  {
   "cell_type": "code",
   "execution_count": 80,
   "id": "4d61a8ab",
   "metadata": {},
   "outputs": [
    {
     "name": "stdout",
     "output_type": "stream",
     "text": [
      "36\n"
     ]
    }
   ],
   "source": [
    "def sum_of_dict_values(dictionary, total=0):\n",
    "    for key, value_ in dictionary.items():\n",
    "        if isinstance(value_, int):\n",
    "            total += value_\n",
    "        elif isinstance(value_, (list, tuple, set)):\n",
    "            total += sum(value_)\n",
    "        elif isinstance(value_, dict):\n",
    "            total += sum_of_dict_values(value_)\n",
    "    return total\n",
    "\n",
    "# Example usage:\n",
    "my_dict={'v1':10,\n",
    "        'v2':{'v3':20,'v6':[30],'v7':{'v8':40}},\n",
    "        }\n",
    "my_dict = {\n",
    "    'a': 1,\n",
    "    'b': [2, 3],\n",
    "    'c': {'x': 4, 'y': 5},\n",
    "    'd': (6, 7),\n",
    "    'e': {'z': 8}\n",
    "}\n",
    "\n",
    "\n",
    "result = sum_of_dict_values(my_dict)\n",
    "print(result)  # Output: 36\n"
   ]
  },
  {
   "cell_type": "code",
   "execution_count": null,
   "id": "338a1263",
   "metadata": {},
   "outputs": [],
   "source": []
  }
 ],
 "metadata": {
  "kernelspec": {
   "display_name": "Python 3 (ipykernel)",
   "language": "python",
   "name": "python3"
  },
  "language_info": {
   "codemirror_mode": {
    "name": "ipython",
    "version": 3
   },
   "file_extension": ".py",
   "mimetype": "text/x-python",
   "name": "python",
   "nbconvert_exporter": "python",
   "pygments_lexer": "ipython3",
   "version": "3.9.13"
  }
 },
 "nbformat": 4,
 "nbformat_minor": 5
}
