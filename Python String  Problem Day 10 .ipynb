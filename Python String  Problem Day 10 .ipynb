{
 "cells": [
  {
   "cell_type": "markdown",
   "id": "8d9d15ec",
   "metadata": {},
   "source": [
    "# Encrypt the string - 1\n",
    "\n",
    "       Input:\n",
    "    s = \"aabc\"\n",
    "     Output: 1c1b2a\n",
    "    Explanation: aabc\n",
    "     Step1: a2b1c1\n",
    "     Step2: 1c1b2a"
   ]
  },
  {
   "cell_type": "code",
   "execution_count": 8,
   "id": "237d2c66",
   "metadata": {},
   "outputs": [],
   "source": [
    "#User function Template for python3\n",
    "\n",
    "class Solution:\n",
    "\n",
    "    def encryptString(self, s):\n",
    "        # code here\n",
    "        if len(s) < 2:\n",
    "            return \"1\"+s[0]\n",
    "        else:\n",
    "            count=1\n",
    "            S=\"\"\n",
    "            for i in range(1,len(s)):\n",
    "                if s[i] == s[i-1]:\n",
    "                    count+=1\n",
    "                else:\n",
    "                    S+=s[i-1]+str(count)\n",
    "                    count=1\n",
    "            S+=s[i]+str(count)\n",
    "        return S[::-1]\n"
   ]
  },
  {
   "cell_type": "markdown",
   "id": "f08ebc2a",
   "metadata": {},
   "source": [
    "# Remove all characters other than alphabets\n",
    "\n",
    "      input: S = \"$Gee*k;s..fo, r'Ge^eks?\"\n",
    "         Output: GeeksforGeeks\n",
    "     Explanation: Removed charcters other than\n",
    "      alphabets."
   ]
  },
  {
   "cell_type": "code",
   "execution_count": 13,
   "id": "00e72e94",
   "metadata": {},
   "outputs": [
    {
     "name": "stdout",
     "output_type": "stream",
     "text": [
      "-1\n",
      "\n"
     ]
    }
   ],
   "source": [
    "#Approach-1:\n",
    "    #S = \"$Gee*k;s..fo, r'Ge^eks?\"\n",
    "S=\"{{{}}> *& ^%*)\"\n",
    "for i in S:\n",
    "    if not i.isalpha():\n",
    "        S=S.replace(i,'')\n",
    "if len(S)<1:\n",
    "    print(-1)\n",
    "print(S)"
   ]
  },
  {
   "cell_type": "code",
   "execution_count": null,
   "id": "47f62075",
   "metadata": {},
   "outputs": [],
   "source": [
    "#Approach-2:\n",
    "def extract_alphabets(input_str):\n",
    "    # Initialize an empty string to store the extracted alphabets\n",
    "    result = \"\"\n",
    "\n",
    "    # Iterate over each character in the input string\n",
    "    for char in input_str:\n",
    "        # Check if the character is an alphabet\n",
    "        if char.isalpha():\n",
    "            # If it is, concatenate it to the result string\n",
    "            result += char\n",
    "    \n",
    "    # If no alphabet characters were found, return -1\n",
    "    if not result:\n",
    "        return -1\n",
    "    \n",
    "    # Otherwise, return the result string\n",
    "    return result\n",
    "\n",
    "# Test cases\n",
    "print(extract_alphabets(\"$Gee*k;s..fo, r'Ge^eks?\"))  # Output: \"GeeksforGeeks\"\n",
    "print(extract_alphabets(\"{{{}}> *& ^%*)\"))           # Output: -1\n"
   ]
  },
  {
   "cell_type": "markdown",
   "id": "5ba6a7b7",
   "metadata": {},
   "source": [
    "# Minimize string value\n",
    "\n",
    "\n",
    "     Example 1:\n",
    "\n",
    "     Input: S = \"abccc\", K = 1\n",
    "      Output: 6\n",
    "    Explanation: Remove one 'c', then frequency\n",
    "     will be a -> 1, b -> 1, c -> 2.\n",
    "     1^1 + 1^1 + 2^2 = 6\n",
    "    â€‹Example 2:\n",
    "\n",
    "    Input: S = \"aaab\", K = 2\n",
    "    Output: 2\n",
    "      Explanation: Remove 2 'a's, then frequency\n",
    "     will be a -> 1, b -> 1.\n",
    "      1^2 + 1^2 = 2"
   ]
  },
  {
   "cell_type": "code",
   "execution_count": 58,
   "id": "255e14f0",
   "metadata": {},
   "outputs": [
    {
     "name": "stdout",
     "output_type": "stream",
     "text": [
      "2\n"
     ]
    }
   ],
   "source": [
    "#S = \"aaab\"\n",
    "S=\"bbbaaea\" \n",
    "K = 5\n",
    "dict_k={}\n",
    "set_k=set(S)\n",
    "result=0\n",
    "\n",
    "for i in S:\n",
    "    dict_k[i]=S.count(i)\n",
    "for j in set_k:\n",
    "    if dict_k[j] >K:\n",
    "        dict_k[j]=dict_k[j]-K\n",
    "    for z in dict_k.values():\n",
    "        result=result+pow(z,z)\n",
    "if result \n",
    "        \n",
    "print(2)\n",
    "        \n",
    "\n",
    "\n",
    "\n",
    "\n"
   ]
  },
  {
   "cell_type": "code",
   "execution_count": 44,
   "id": "e9065fe2",
   "metadata": {},
   "outputs": [],
   "source": [
    "result=0\n",
    "for z in dict_k.values():\n",
    "    result=result+pow(z,z)\n",
    "    "
   ]
  },
  {
   "cell_type": "code",
   "execution_count": 45,
   "id": "9b315fa5",
   "metadata": {},
   "outputs": [
    {
     "data": {
      "text/plain": [
       "6"
      ]
     },
     "execution_count": 45,
     "metadata": {},
     "output_type": "execute_result"
    }
   ],
   "source": [
    "result"
   ]
  },
  {
   "cell_type": "code",
   "execution_count": 59,
   "id": "d593bb98",
   "metadata": {},
   "outputs": [
    {
     "name": "stdout",
     "output_type": "stream",
     "text": [
      "6\n",
      "2\n",
      "2\n"
     ]
    }
   ],
   "source": [
    "from collections import Counter\n",
    "\n",
    "def min_sum_of_squares(S, K):\n",
    "    # Calculate the frequency of each character in the string\n",
    "    freq = Counter(S)\n",
    "    \n",
    "    # Sort the characters by frequency in descending order\n",
    "    sorted_chars = sorted(freq.keys(), key=lambda x: freq[x], reverse=True)\n",
    "    \n",
    "    # Remove K occurrences of the character with the highest frequency\n",
    "    for char in sorted_chars:\n",
    "        if K > 0:\n",
    "            if freq[char] >= K:\n",
    "                freq[char] -= K\n",
    "                K = 0\n",
    "            else:\n",
    "                K -= freq[char]\n",
    "                freq[char] = 0\n",
    "        else:\n",
    "            break\n",
    "    \n",
    "    # Calculate the sum of squares of the remaining frequencies\n",
    "    min_sum = sum(freq[char] ** 2 for char in freq)\n",
    "    \n",
    "    return min_sum\n",
    "\n",
    "# Test cases\n",
    "print(min_sum_of_squares(\"abccc\", 1))  # Output: 6\n",
    "print(min_sum_of_squares(\"aaab\", 2))   # Output: 2\n",
    "print(min_sum_of_squares(\"bbbaaea\", 5))   # Output: 2\n",
    "\n",
    "\n"
   ]
  },
  {
   "cell_type": "code",
   "execution_count": null,
   "id": "b394f805",
   "metadata": {},
   "outputs": [],
   "source": [
    "from collections import Counter\n",
    "\n",
    "def min_sum_of_squares(S, K):\n",
    "    # Calculate the frequency of each character in the string\n",
    "    freq = Counter(S)\n",
    "    \n",
    "    # Sort the characters by frequency in descending order\n",
    "    sorted_chars = sorted(freq.keys(), key=lambda x: freq[x], reverse=True)\n",
    "    \n",
    "    # Remove the top K characters with the highest frequencies\n",
    "    for char in sorted_chars[:K]:\n",
    "        del freq[char]\n",
    "    \n",
    "    # Calculate the sum of squares of the remaining frequencies\n",
    "    min_sum = sum(freq[char] ** 2 for char in freq)\n",
    "    \n",
    "    return min_sum\n",
    "\n",
    "# Test cases\n",
    "print(min_sum_of_squares(\"abccc\", 1))  # Output: 6\n",
    "print(min_sum_of_squares(\"aaab\", 2))   # Output: 2\n"
   ]
  },
  {
   "cell_type": "markdown",
   "id": "ab3607dc",
   "metadata": {},
   "source": [
    "# Find the Number which contain the digit d\n",
    "\n",
    "     Given two integer number n and d. The task is to find the number between 0 to n which contain the specific digit d.\n",
    "    Input\n",
    "    n = 50\n",
    "    d = 2\n",
    "    Output\n",
    "     2 12 20 21 22 23 24 25 26 27 28 29 32 42\n",
    "    Explanation:\n",
    "     For number till 50, 2 appears in all these numbers."
   ]
  },
  {
   "cell_type": "code",
   "execution_count": 87,
   "id": "bead79b6",
   "metadata": {},
   "outputs": [],
   "source": [
    "#User function Template for python3\n",
    "\n",
    "class Solution:\n",
    "\n",
    "    def solve(self, n, d):\n",
    "        list_store=[]\n",
    "        for i in range(0,n+1):\n",
    "            if str(d) in str(i):\n",
    "                list_store.append(i)\n",
    "        if len(list_store)==0:\n",
    "            list_store.append(-1)\n",
    "        return list_store\n"
   ]
  },
  {
   "cell_type": "markdown",
   "id": "cf4a5a44",
   "metadata": {},
   "source": [
    "# Substrings with same first and last characters\n",
    "\n",
    "    Given string s, the task is to find the count of all substrings which have the same character at the beginning and end.\n",
    "\n",
    "    Example 1:\n",
    "\n",
    "     Input: s = \"abcab\"\n",
    "     Output: 7\n",
    "    Explanation: a, abca, b, bcab, \n",
    "     c, a and b"
   ]
  },
  {
   "cell_type": "markdown",
   "id": "4bf6479e",
   "metadata": {},
   "source": [
    "# Approach-2\n",
    "s=\"cafdgjjg\"\n",
    "c=0\n",
    "d=0\n",
    "dic={}\n",
    "for i in s:\n",
    "    if i in dic:\n",
    "        dic[i]=dic[i]+1\n",
    "        c=c+dic[i]\n",
    "    else:\n",
    "        dic[i]=1\n",
    "        d=d+1\n",
    "print(c,d)\n",
    "        "
   ]
  },
  {
   "cell_type": "markdown",
   "id": "bfa55fe9",
   "metadata": {},
   "source": [
    "# Length of Last word\n",
    "\n",
    "Given a string S consisting of upper/lower-case alphabets and empty space characters ‘ ‘. The string may contain spaces at the end. You will have return the length of last word which consists of alphabets only.\n",
    "\n",
    "    Input:\n",
    "    S = \"Geeks for GeeksQ\"\n",
    "     Output: 5\n",
    "     Explanation: The last word is \"Geeks\"  of length 5."
   ]
  },
  {
   "cell_type": "code",
   "execution_count": 12,
   "id": "44a22d92",
   "metadata": {},
   "outputs": [],
   "source": [
    "#S =\"Geeks for Geeks\"\n",
    "#S=\"Start Coding Here\"\n",
    "s=\"hkrrtbxwkabeihgcdqew\"\n",
    "\n"
   ]
  },
  {
   "cell_type": "code",
   "execution_count": 20,
   "id": "dff8f8e5",
   "metadata": {},
   "outputs": [
    {
     "name": "stdout",
     "output_type": "stream",
     "text": [
      "1\n"
     ]
    }
   ],
   "source": [
    "#Approach-1\n",
    "def length_of_last_word(s):\n",
    "    # Remove trailing whitespace and split the string into words\n",
    "    words = s.strip().split()\n",
    "    \n",
    "    # Iterate through the words in reverse order\n",
    "    for word in reversed(words):\n",
    "        # Check if the word consists only of alphabets\n",
    "        if word.isalpha():\n",
    "            # Return the length of the word\n",
    "            return len(word)\n",
    "    \n",
    "    # If no word consisting only of alphabets is found, return 0\n",
    "    return 0\n",
    "\n",
    "# Test the function\n",
    "S = \"RAM K\"\n",
    "print(length_of_last_word(S))  # Output: 5\n",
    "\n"
   ]
  },
  {
   "cell_type": "code",
   "execution_count": 26,
   "id": "82074c3b",
   "metadata": {},
   "outputs": [
    {
     "name": "stdout",
     "output_type": "stream",
     "text": [
      "20\n"
     ]
    },
    {
     "data": {
      "text/plain": [
       "'hkrrtbxwkabeihgcdqew'"
      ]
     },
     "execution_count": 26,
     "metadata": {},
     "output_type": "execute_result"
    }
   ],
   "source": [
    "#Approach-2\n",
    "s=\"hkrrtbxwkabeihgcdqew\"\n",
    "words=s.strip().split()\n",
    "words=words[-1]\n",
    "print(len(words))\n",
    "        \n",
    "words"
   ]
  },
  {
   "cell_type": "markdown",
   "id": "aa473465",
   "metadata": {},
   "source": [
    "# Sorting Employees\n",
    "\n",
    "    have records of employee name as string (Ename) and salary as positive integer (S).\n",
    "    You have to sort the records on the basis of employee salary, if salary is same then use employee name for comparison.\n",
    "\n",
    "     Example 1:\n",
    "\n",
    "     Input: N = 2\n",
    "     arr[] = {{xbnnskd, 100}, {geek, 50}}\n",
    "     Output: {geek 50}, {xbnnskd 100}\n",
    "     Explanation: geek has lowest salary as 50 and xbnnskd has more salary."
   ]
  },
  {
   "cell_type": "code",
   "execution_count": 42,
   "id": "b7a45dd3",
   "metadata": {},
   "outputs": [],
   "source": [
    "#arr = dict{{'xbnnskd': 100}, {'geek':50}}\n",
    "#arr.sort(key=lambda p:p[0])\n",
    "#arr.sort(key=lambda q:q[1])"
   ]
  },
  {
   "cell_type": "markdown",
   "id": "e11a5bef",
   "metadata": {},
   "source": [
    "# String Reversal\n",
    "\n",
    "\n",
    "\n",
    "        Given a string, say S, print it in reverse manner eliminating the repeated characters and spaces.\n",
    "\n",
    "      Example 1:\n",
    "\n",
    "      Input: S = \"GEEKS FOR GEEKS\"\n",
    "     Output: \"SKEGROF\"\n",
    "\n",
    "     Example 2:\n",
    "\n",
    "    Input: S = \"I AM AWESOME\"\n",
    "    Output: \"EMOSWA\n",
    "\n"
   ]
  },
  {
   "cell_type": "code",
   "execution_count": 75,
   "id": "4e0938b1",
   "metadata": {},
   "outputs": [
    {
     "name": "stdout",
     "output_type": "stream",
     "text": [
      "EMOSWAI\n"
     ]
    }
   ],
   "source": [
    "S = \"I AM AWESOME\"\n",
    "#S = \"GEEKS FOR GEEKS\"\n",
    "S=S.replace(' ','')\n",
    "S=S[::-1]\n",
    "seen=set()\n",
    "result=\"\"\n",
    "for char in S:\n",
    "        # If the character is encountered for the first time, add it to the result string and mark it as seen\n",
    "        if char not in seen:\n",
    "            result += char\n",
    "            seen.add(char)\n",
    "print(result)\n",
    "\n"
   ]
  },
  {
   "cell_type": "markdown",
   "id": "4f0b62ca",
   "metadata": {},
   "source": [
    "# Confused pappu\n",
    "\n",
    "\n",
    "      Pappu is confused between 6 & 9. He works in the billing department of abc company and his work is to return the remaining amount to the customers. If the actual remaining amount is given we need to find the maximum possible extra amount given by the pappu to the customers.\n",
    "\n",
    "\n",
    "      Input: amount = 56\n",
    "     Output: 3\n",
    "      Explanation: maximum possible extra \n",
    "             amount = 59 - 56 = 3.\n",
    "\n"
   ]
  },
  {
   "cell_type": "code",
   "execution_count": 91,
   "id": "d95c7502",
   "metadata": {},
   "outputs": [],
   "source": [
    "class Solution:\n",
    "\n",
    "    def findDiff(self, amount):\n",
    "        amount_str=str(amount)\n",
    "        addition=amount_str.replace('6','9')\n",
    "        addition_int=int(addition)\n",
    "        \n",
    "        return addition_int-amount\n",
    "        # code here"
   ]
  }
 ],
 "metadata": {
  "kernelspec": {
   "display_name": "Python 3 (ipykernel)",
   "language": "python",
   "name": "python3"
  },
  "language_info": {
   "codemirror_mode": {
    "name": "ipython",
    "version": 3
   },
   "file_extension": ".py",
   "mimetype": "text/x-python",
   "name": "python",
   "nbconvert_exporter": "python",
   "pygments_lexer": "ipython3",
   "version": "3.9.13"
  }
 },
 "nbformat": 4,
 "nbformat_minor": 5
}
