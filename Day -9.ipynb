{
 "cells": [
  {
   "cell_type": "markdown",
   "id": "13fc54a4",
   "metadata": {},
   "source": [
    "# 1- Anagram Palindrome\n",
    "\n"
   ]
  },
  {
   "cell_type": "code",
   "execution_count": 1,
   "id": "1f773873",
   "metadata": {},
   "outputs": [
    {
     "name": "stdout",
     "output_type": "stream",
     "text": [
      "1\n"
     ]
    }
   ],
   "source": [
    "#User function Template for python3\n",
    "#Approach-1\n",
    "S =\"ABCZABC\"\n",
    "\n",
    "ind=len(S)//2 #Quosient 5\n",
    "\n",
    "if len(S)%2==0:#Reminder 0\n",
    "    if (S[:ind]==S[ind:]):\n",
    "        print(\"1\")\n",
    "    else:\n",
    "        print (\"0\")\n",
    "else:\n",
    "    if (S[:ind]==S[ind+1:]):\n",
    "        print(\"1\")\n",
    "    else:\n",
    "        print(\"0\")       \n"
   ]
  },
  {
   "cell_type": "code",
   "execution_count": 2,
   "id": "c0d5b80c",
   "metadata": {},
   "outputs": [
    {
     "name": "stdout",
     "output_type": "stream",
     "text": [
      "True\n",
      "True\n",
      "True\n"
     ]
    }
   ],
   "source": [
    "#User function Template for python3\n",
    "from collections import Counter\n",
    "#Approach-2\n",
    "# code here\n",
    "        \n",
    "# check if two substring of same string is anagram with one exception, either there is one character what is odd (to be able to be palindrom )\n",
    "        \n",
    "is_odd_flag = None\n",
    "# check of anagam\n",
    "count_dict = Counter(S)\n",
    "        \n",
    "for key, count in count_dict.items():\n",
    "    if count%2 == 1:\n",
    "        if not is_odd_flag:\n",
    "            is_odd_flag = 1\n",
    "        else:\n",
    "            print(False)\n",
    "                    # because, if there are multiple character having odd count, it can't be palindrome\n",
    "                    # uptill here, we know string is anagram with might be just one character which is odd count\n",
    "    else:\n",
    "        print(True)"
   ]
  },
  {
   "cell_type": "code",
   "execution_count": 3,
   "id": "9716188a",
   "metadata": {},
   "outputs": [
    {
     "name": "stdout",
     "output_type": "stream",
     "text": [
      "True\n"
     ]
    }
   ],
   "source": [
    "#User function Template for python3\n",
    "#Approach-3\n",
    "from collections import Counter\n",
    "d=Counter(S)\n",
    "k=set(S)\n",
    "c=0\n",
    "for i in k:\n",
    "    if d[i]%2==1:\n",
    "        c+=1 \n",
    "if c==1 or c==0:\n",
    "        print(True) \n",
    "else:\n",
    "        print(False)\n"
   ]
  },
  {
   "cell_type": "markdown",
   "id": "a4b59787",
   "metadata": {},
   "source": [
    "# String with numbers at its end\n",
    "\n",
    "         Given string s that is appended with a number at last.\n",
    "         The task is to check whether the length of string excluding that number is equal to that number."
   ]
  },
  {
   "cell_type": "code",
   "execution_count": 4,
   "id": "47995948",
   "metadata": {},
   "outputs": [
    {
     "name": "stdout",
     "output_type": "stream",
     "text": [
      "1\n"
     ]
    }
   ],
   "source": [
    "#Approach-1\n",
    "s=\"ABCABCABCA10\"\n",
    "store_str=\"\"\n",
    "store_digit=\"\"\n",
    "for i in s:\n",
    "    if i.isalpha():\n",
    "        store_str+=i\n",
    "    elif i.isdigit():\n",
    "        store_digit+=i\n",
    "if len(store_str)==int((store_digit)):\n",
    "     print(1)\n",
    "else:\n",
    "    print(0)\n",
    "        "
   ]
  },
  {
   "cell_type": "code",
   "execution_count": 5,
   "id": "060b5fa1",
   "metadata": {},
   "outputs": [
    {
     "name": "stdout",
     "output_type": "stream",
     "text": [
      "1\n"
     ]
    }
   ],
   "source": [
    "#User function Template for python3\n",
    "#Approach-2\n",
    "s='ABC3'\n",
    "import re\n",
    "s=re.split(r'([0-9])',s)\n",
    "\n",
    "if len(s[0])==int(s[1]):\n",
    "    print(1)\n",
    "else:\n",
    "    print(0)"
   ]
  },
  {
   "cell_type": "code",
   "execution_count": 6,
   "id": "0e619f6a",
   "metadata": {},
   "outputs": [
    {
     "name": "stdout",
     "output_type": "stream",
     "text": [
      "1\n"
     ]
    }
   ],
   "source": [
    "#Approach-3\n",
    "num=''\n",
    "s=\"AA2\"\n",
    "alpha=0\n",
    "for i in s:\n",
    "    if i.isalpha():\n",
    "        alpha+=1\n",
    "    else:\n",
    "        num+=i\n",
    "if alpha==int(num):\n",
    "    print(\"1\")\n",
    "else:\n",
    "    print(\"0\")"
   ]
  },
  {
   "cell_type": "markdown",
   "id": "2ba8abe0",
   "metadata": {},
   "source": [
    "# Sort the string in descending order\n",
    "\n",
    "     Given a string str containing only lower case alphabets, the task is to sort it in lexicographically-descending order.\n",
    "     Input: str = \"geeks\"\n",
    "     Output: \"skgee\"\n",
    "     Explanation: It's the lexicographically-\n",
    "     descending order"
   ]
  },
  {
   "cell_type": "code",
   "execution_count": 7,
   "id": "8a1d90bd",
   "metadata": {},
   "outputs": [
    {
     "data": {
      "text/plain": [
       "'skgee'"
      ]
     },
     "execution_count": 7,
     "metadata": {},
     "output_type": "execute_result"
    }
   ],
   "source": [
    "#By default string sort in ascending order \n",
    "#Here we have to do the sorting in descending\n",
    "#Approach-1\n",
    "str = \"geeks\"\n",
    "\n",
    "res=''.join(sorted(str))\n",
    "res[::-1]"
   ]
  },
  {
   "cell_type": "markdown",
   "id": "c7948cab",
   "metadata": {},
   "source": [
    "# Remove repeated digits in a given number\n",
    "\n",
    "     Given an integer N represented in the form of a string, remove consecutive repeated digits from it.\n"
   ]
  },
  {
   "cell_type": "raw",
   "id": "8cd822ed",
   "metadata": {},
   "source": [
    "Input:\n",
    "N = 1224\n",
    "N=str(N)\n",
    "Output: 124\n",
    "Explanation: Two consecutive occurrences of \n",
    "2 have been reduced to one."
   ]
  },
  {
   "cell_type": "code",
   "execution_count": 8,
   "id": "7a7f48e4",
   "metadata": {},
   "outputs": [
    {
     "name": "stdout",
     "output_type": "stream",
     "text": [
      "124\n"
     ]
    }
   ],
   "source": [
    "#Approach-1\n",
    "N=\"1224\"\n",
    "res=\"\"\n",
    "for i in range(len(N)-1):\n",
    "    if N[i]==N[i+1]:\n",
    "        continue\n",
    "    else:\n",
    "        res=res+N[i]\n",
    "res=res+N[-1]\n",
    "print(res)\n"
   ]
  },
  {
   "cell_type": "markdown",
   "id": "7c1c83fe",
   "metadata": {},
   "source": [
    "# Product is even or odd?\n",
    "\n",
    "     You are given two long numbers N1 and N2 in a string. You need to find out if the product of these numbers generate an even number or an odd number, If it is an even number print 1 else print 0.\n",
    "\n",
    "\n",
    "\n",
    "\n",
    "\n"
   ]
  },
  {
   "cell_type": "code",
   "execution_count": 9,
   "id": "b8cc734c",
   "metadata": {},
   "outputs": [
    {
     "name": "stdout",
     "output_type": "stream",
     "text": [
      "Even\n"
     ]
    }
   ],
   "source": [
    "N1=\"10\"\n",
    "N1=int(N1)\n",
    "N2=\"20\"\n",
    "N2=int(N2)\n",
    "N=N1*N2\n",
    "if N%2==0:\n",
    "    print(\"Even\")\n",
    "else:\n",
    "    print(\"Pass\")"
   ]
  },
  {
   "cell_type": "markdown",
   "id": "e1f943b3",
   "metadata": {},
   "source": [
    "# Odd to Even\n",
    "\n",
    "          Given an odd number in the form of string, the task is to make largest even number possible from the given number provided one is allowed to do exactly only one swap operation, \n",
    "          \n",
    "          if no such number is possible then return the input string itself."
   ]
  },
  {
   "cell_type": "code",
   "execution_count": 10,
   "id": "b47cc72d",
   "metadata": {},
   "outputs": [],
   "source": [
    "#User function Template for python3\n",
    "#Appproach-1\n",
    "\n",
    "class Solution:\n",
    "    def makeEven(self, s):\n",
    "        number = list(s)\n",
    "        n = len(s)\n",
    "        max_even = 1\n",
    "        index = -1\n",
    "        for i in range(n-1,-1,-1):\n",
    "            if int(number[i]) % 2 == 0:\n",
    "                if index == -1:\n",
    "                    index = i\n",
    "                elif int(number[i]) < int(number[-1]):\n",
    "                    index = i\n",
    "        if index > -1:\n",
    "            number[index], number[n-1] = number[n-1], number[index]\n",
    "        \n",
    "        return ''.join(number)\n",
    "        # code here\n"
   ]
  },
  {
   "cell_type": "code",
   "execution_count": 11,
   "id": "5e4b3c61",
   "metadata": {},
   "outputs": [
    {
     "data": {
      "text/plain": [
       "'So if we dint find any smaller even  number than the last, so now we have to find only even digit \\n   but we will start finding it from last, lets understand it with a example.\\n   s=4643, there is no smaller even number than last, so now we start iterating from last, as soon as\\n   we find number greater than last and also it is even, we swap it, so our condition becomes true \\n   at index=-2, so after swapping number becomes 4634 and now if we start iterating from beginning,\\n   our condition will become true at index=1, so after swapping number becomes 4346. \\n   So, 4346<4634 and thats why we are swapping from end.'"
      ]
     },
     "execution_count": 11,
     "metadata": {},
     "output_type": "execute_result"
    }
   ],
   "source": [
    "\n",
    "        ''' 1)Hold last digit\n",
    "            2)find digit which is even and less than of last digit and swap\n",
    "            3)if not found then found only even digit and swap\n",
    "            4)if not found then print the original number '''\n",
    "            \n",
    "\n",
    "        \n",
    "        ''' The task is to make largest even number possible ,so we are finding from start that if any no. is \n",
    "            smaller than last and also it is even, as soon as we got this number, we will swap.\n",
    "            Suppose- 7467, we got our condition true at index=1, so after swapping, number will become 7764. suppose\n",
    "            if we start the iteration from end, we got out condition true at index=-2 , so after swapping ,number will\n",
    "            become 7476. 7476<7764. So, thats why we are swapping from start.'''\n",
    "\n",
    "                \n",
    "        '''So if we dint find any smaller even  number than the last, so now we have to find only even digit \n",
    "           but we will start finding it from last, lets understand it with a example.\n",
    "           s=4643, there is no smaller even number than last, so now we start iterating from last, as soon as\n",
    "           we find number greater than last and also it is even, we swap it, so our condition becomes true \n",
    "           at index=-2, so after swapping number becomes 4634 and now if we start iterating from beginning,\n",
    "           our condition will become true at index=1, so after swapping number becomes 4346. \n",
    "           So, 4346<4634 and thats why we are swapping from end.'''\n",
    "        \n"
   ]
  },
  {
   "cell_type": "code",
   "execution_count": 12,
   "id": "4adcee8d",
   "metadata": {},
   "outputs": [
    {
     "name": "stdout",
     "output_type": "stream",
     "text": [
      "2nd 4634\n",
      "2nd 4436\n",
      "3rd 4436\n"
     ]
    }
   ],
   "source": [
    "#Approach-2\n",
    "s=\"4643\"\n",
    "s=list(s)\n",
    "for i in range(len(s)):\n",
    "    if (int(s[i])<int(s[-1])) and (int(s[i])%2==0):\n",
    "        s[i],s[-1]=s[-1],s[i]\n",
    "        print( \"1st\",\"\".join(s))\n",
    "for i in range(1,len(s)+1):\n",
    "    if (int(s[-i])>int(s[-1])) and (int(s[-i])%2==0):\n",
    "        s[-i],s[-1]=s[-1],s[-i]\n",
    "        print(\"2nd\", \"\".join(s))\n",
    "                \n",
    "print(\"3rd\",\"\".join(s))"
   ]
  },
  {
   "cell_type": "markdown",
   "id": "1e4de06b",
   "metadata": {},
   "source": [
    "# Remainder with 7\n",
    "            Given a number as string(n) , find the remainder of the number when it is divided by 7\n"
   ]
  },
  {
   "cell_type": "code",
   "execution_count": 13,
   "id": "eb064be3",
   "metadata": {},
   "outputs": [],
   "source": [
    "def Remainder_7(str):\n",
    "    return int(str)%7"
   ]
  },
  {
   "cell_type": "code",
   "execution_count": 14,
   "id": "dd8864e3",
   "metadata": {},
   "outputs": [
    {
     "data": {
      "text/plain": [
       "1"
      ]
     },
     "execution_count": 14,
     "metadata": {},
     "output_type": "execute_result"
    }
   ],
   "source": [
    "Remainder_7(8)"
   ]
  },
  {
   "cell_type": "markdown",
   "id": "da4387d2",
   "metadata": {},
   "source": [
    "# The Penalty Shootout\n",
    "\n",
    "             Given a string S contains 0's, 1's, and 2's, the task is to find the number of goals on the penalty.\n",
    "\n",
    "              '1' stands for \"goal\".\n",
    "                '0' stands for \"no goal\".\n",
    "         '2' stands for a foul which gives a penalty."
   ]
  },
  {
   "cell_type": "raw",
   "id": "a43f9703",
   "metadata": {},
   "source": [
    "Input: S = \"1012012112110\"\n",
    "Output: 2\n",
    "Explanation: There are 3 penalties,\n",
    "of which he scores only 2.\n",
    "1012012112110"
   ]
  },
  {
   "cell_type": "code",
   "execution_count": 15,
   "id": "9df1f605",
   "metadata": {},
   "outputs": [
    {
     "data": {
      "text/plain": [
       "6"
      ]
     },
     "execution_count": 15,
     "metadata": {},
     "output_type": "execute_result"
    }
   ],
   "source": [
    "S = \"111122\"\n",
    "len(S)"
   ]
  },
  {
   "cell_type": "code",
   "execution_count": 16,
   "id": "f1502c96",
   "metadata": {},
   "outputs": [
    {
     "name": "stdout",
     "output_type": "stream",
     "text": [
      "1\n"
     ]
    }
   ],
   "source": [
    "#Approach-1\n",
    "\n",
    "for i in range(len(S)-1):\n",
    "    if S[i]=='2':\n",
    "        if S[i+1]=='1':\n",
    "            count+=1\n",
    "        else:\n",
    "            0\n",
    "print(count)"
   ]
  },
  {
   "cell_type": "code",
   "execution_count": 17,
   "id": "241127b6",
   "metadata": {},
   "outputs": [],
   "source": [
    "#User function Template for python3\n",
    "#Approach-2\n",
    "class Solution:\n",
    "    def penaltyScore(self, S):\n",
    "        # code here\n",
    "        return S.count(\"21\")\n"
   ]
  },
  {
   "cell_type": "code",
   "execution_count": 18,
   "id": "e2660058",
   "metadata": {},
   "outputs": [
    {
     "name": "stdout",
     "output_type": "stream",
     "text": [
      "0\n"
     ]
    }
   ],
   "source": [
    "#User function Template for python3\n",
    "#Approach-3\n",
    "count=0\n",
    "for i in range(len(S)-1):\n",
    "    if S[i]+S[i+1]==\"21\":\n",
    "        count+=1\n",
    "    else:\n",
    "        0\n",
    "print(count)\n",
    "                \n"
   ]
  },
  {
   "cell_type": "markdown",
   "id": "f09aed2f",
   "metadata": {},
   "source": [
    "# Check if divisible by 4\n",
    "\n",
    "Given a number N. Check whether it is divisble by 4."
   ]
  },
  {
   "cell_type": "raw",
   "id": "63332faa",
   "metadata": {},
   "source": [
    "Input:\n",
    "N = 1124\n",
    "Output: 1\n",
    "Explanation: The number is divisible by 4\n",
    "as 1124 % 4 = 0."
   ]
  },
  {
   "cell_type": "code",
   "execution_count": 19,
   "id": "2630e8e6",
   "metadata": {},
   "outputs": [
    {
     "name": "stdout",
     "output_type": "stream",
     "text": [
      "0\n"
     ]
    }
   ],
   "source": [
    "N=7\n",
    "if int(N)%4==0:\n",
    "    print(1)\n",
    "else:\n",
    "    print(0)"
   ]
  },
  {
   "cell_type": "markdown",
   "id": "eaae76a6",
   "metadata": {},
   "source": [
    "# Last index of a character in the string\n",
    "\n",
    "     Given a string S  and a character X, the task is to find the last index (0 based indexing) of X in string S. If no index found then the answer will be -1.\n",
    "\n",
    "\n",
    "        Example 1:\n",
    "\n",
    "      Input: S = \"Geeks\", P = 'e'\n",
    "     Output: 2\n",
    "    Explanation: Last index of 'e'  is 2"
   ]
  },
  {
   "cell_type": "code",
   "execution_count": 20,
   "id": "c7ecaf2d",
   "metadata": {},
   "outputs": [],
   "source": [
    "S = \"Geekes\"\n",
    "P = 'e'"
   ]
  },
  {
   "cell_type": "code",
   "execution_count": 21,
   "id": "05fd49b2",
   "metadata": {},
   "outputs": [
    {
     "name": "stdout",
     "output_type": "stream",
     "text": [
      "4\n"
     ]
    }
   ],
   "source": [
    "#Approach-1\n",
    "res=[]\n",
    "for i in range(len(S)-1):\n",
    "    if S[i]=='e':\n",
    "        res.append(i)\n",
    "if len(res)!=0:\n",
    "    print(max(res))\n",
    "else:\n",
    "    print(-1)\n",
    "\n",
    "        "
   ]
  }
 ],
 "metadata": {
  "kernelspec": {
   "display_name": "Python 3 (ipykernel)",
   "language": "python",
   "name": "python3"
  },
  "language_info": {
   "codemirror_mode": {
    "name": "ipython",
    "version": 3
   },
   "file_extension": ".py",
   "mimetype": "text/x-python",
   "name": "python",
   "nbconvert_exporter": "python",
   "pygments_lexer": "ipython3",
   "version": "3.9.13"
  }
 },
 "nbformat": 4,
 "nbformat_minor": 5
}
