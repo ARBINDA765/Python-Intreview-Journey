{
 "cells": [
  {
   "cell_type": "markdown",
   "id": "1468ce43",
   "metadata": {},
   "source": [
    "# 18-Count type of Characters\n",
    "Given a string S, write a program to count the occurrence of Lowercase characters, Uppercase characters,\n",
    "\n",
    "Special characters and Numeric values in the string.\n",
    "\n",
    "Note: There are no white spaces in the string.\n",
    "\n",
    "Input: S = \"#9863aretuio@#%poire\"\n",
    "\n",
    "output-9863\n",
    "\n"
   ]
  },
  {
   "cell_type": "code",
   "execution_count": 1,
   "id": "c2d93db2",
   "metadata": {},
   "outputs": [],
   "source": [
    "S = \"#9863aretuio@#%poire\"\n",
    "def count_character(S):\n",
    "    count_Upper=0\n",
    "    Count_Lower=0\n",
    "    Count_Number=0\n",
    "    Count_Special=0\n",
    "    \n",
    "    for i in S:\n",
    "        if i.isupper():\n",
    "            count_Upper=count_Upper+1\n",
    "        elif i.islower():\n",
    "            Count_Lower=Count_Lower+1\n",
    "        elif i.isdigit():\n",
    "            Count_Number=Count_Number+1\n",
    "        elif not i.isdigit() and not i.isupper() and not i.islower():\n",
    "            Count_Special=Count_Special+1\n",
    "    return count_Upper,Count_Lower,Count_Number,Count_Special\n",
    "        \n",
    "        "
   ]
  },
  {
   "cell_type": "code",
   "execution_count": 2,
   "id": "00a7483d",
   "metadata": {},
   "outputs": [
    {
     "data": {
      "text/plain": [
       "(0, 12, 4, 4)"
      ]
     },
     "execution_count": 2,
     "metadata": {},
     "output_type": "execute_result"
    }
   ],
   "source": [
    "S = \"#9863aretuio@#%poire\"\n",
    "count_character(S)"
   ]
  },
  {
   "cell_type": "markdown",
   "id": "55265513",
   "metadata": {},
   "source": [
    "#20- Remove all characters except the numeric characters from an alphanumeric string\n",
    "\n",
    "Input: S = \"AA1d23cBB4\"\n",
    "\n",
    "Output: 1234\n",
    "\n",
    "Explanation: Remove all characters\n",
    "\n",
    "other than numbers"
   ]
  },
  {
   "cell_type": "code",
   "execution_count": 3,
   "id": "555092a6",
   "metadata": {},
   "outputs": [
    {
     "name": "stdout",
     "output_type": "stream",
     "text": [
      "1234\n"
     ]
    }
   ],
   "source": [
    "#Approach-1\n",
    "S = \"AA1d23cBB4\"\n",
    "Result=''\n",
    "for i in S:\n",
    "    if i.isdigit():\n",
    "        Result=Result+i\n",
    "print(Result)"
   ]
  },
  {
   "cell_type": "code",
   "execution_count": 4,
   "id": "24522850",
   "metadata": {},
   "outputs": [],
   "source": [
    "#Approach-2\n",
    "import re\n",
    "Numbers_lis=re.findall(r'\\d+',S)\n",
    "Result=''.join(Numbers_lis)"
   ]
  }
 ],
 "metadata": {
  "kernelspec": {
   "display_name": "Python 3 (ipykernel)",
   "language": "python",
   "name": "python3"
  },
  "language_info": {
   "codemirror_mode": {
    "name": "ipython",
    "version": 3
   },
   "file_extension": ".py",
   "mimetype": "text/x-python",
   "name": "python",
   "nbconvert_exporter": "python",
   "pygments_lexer": "ipython3",
   "version": "3.9.13"
  }
 },
 "nbformat": 4,
 "nbformat_minor": 5
}
