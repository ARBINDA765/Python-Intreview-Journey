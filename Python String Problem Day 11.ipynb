{
 "cells": [
  {
   "cell_type": "markdown",
   "id": "8d8fd13d",
   "metadata": {},
   "source": [
    "# Sort the string in descending order\n",
    "\n",
    "      Given a string str containing only lower case alphabets, the task is to sort it in lexicographically-descending order.\n",
    "\n",
    "     Example 1:\n",
    "\n",
    "     Input: str = \"geeks\"\n",
    "     Output: \"skgee\"\n",
    "     Explanation: It's the lexicographically-\n",
    "     descending order.\n",
    "     â€‹Example 2:\n",
    "\n",
    "     Input: str = \"for\"\n",
    "     Output: \"rof\"\n",
    "     Explanation: \"rof\" is in\n",
    "     lexicographically-descending order."
   ]
  },
  {
   "cell_type": "code",
   "execution_count": 1,
   "id": "c72d6cef",
   "metadata": {},
   "outputs": [],
   "source": [
    "#Approach-1\n",
    "res=\"\"\n",
    "str = \"geeks\"\n",
    "for i in sorted(str,reverse=True):\n",
    "    res+=i"
   ]
  },
  {
   "cell_type": "code",
   "execution_count": 2,
   "id": "f07f0031",
   "metadata": {},
   "outputs": [],
   "source": [
    "#User function Template for python3\n",
    "class Solution:\n",
    "    def ReverseSort(self, str):\n",
    "        res=\"\"\n",
    "        for i in sorted(str,reverse=True):\n",
    "            res+=i\n",
    "        return res\n"
   ]
  },
  {
   "cell_type": "markdown",
   "id": "5716596a",
   "metadata": {},
   "source": [
    "# Anagram Strings\n",
    "\n",
    "      Given two strings S1 and S2 . Print \"1\" if both strings are anagrams otherwise print \"0\" .\n",
    "\n",
    "      Note: An anagram of a string is another string with exactly the same quantity of each character in it, in any order.\n",
    "\n",
    "     Example 1:\n",
    "\n",
    "      Input: S1 = \"cdbkdub\" , S2 = \"dsbkcsdn\"\n",
    "     Output: 0 \n",
    "      Explanation: Length of S1 is not same\n",
    "     as length of S2.\n",
    "     Example 2:\n",
    "\n",
    "     Input: S1 = \"geeks\" , S2 = \"skgee\"\n",
    "     Output: 1\n",
    "    Explanation: S1 has the same quantity \n",
    "    of each character in it as S2."
   ]
  },
  {
   "cell_type": "code",
   "execution_count": 3,
   "id": "a042121a",
   "metadata": {},
   "outputs": [],
   "source": [
    "#S1 = \"cdbkdub\" \n",
    "#S2 = \"dsbkcsdn\"\n",
    "S1 = \"geeks\" \n",
    "S2 = \"skgee\"\n",
    "check=set(S1) | set(S2)"
   ]
  },
  {
   "cell_type": "code",
   "execution_count": 4,
   "id": "9d5c0d83",
   "metadata": {},
   "outputs": [
    {
     "name": "stdout",
     "output_type": "stream",
     "text": [
      "Yes\n",
      "Yes\n",
      "Yes\n",
      "Yes\n"
     ]
    }
   ],
   "source": [
    "if len(S1)==len(S2):\n",
    "    for i in check:\n",
    "        if i in S1 and i in S2:\n",
    "            print(\"Yes\")\n",
    "else:\n",
    "    print(\"No\")\n",
    "\n",
    "            "
   ]
  },
  {
   "cell_type": "code",
   "execution_count": 5,
   "id": "bbcce2fd",
   "metadata": {},
   "outputs": [
    {
     "data": {
      "text/plain": [
       "{'e', 'g', 'k', 's'}"
      ]
     },
     "execution_count": 5,
     "metadata": {},
     "output_type": "execute_result"
    }
   ],
   "source": [
    "check"
   ]
  },
  {
   "cell_type": "code",
   "execution_count": 6,
   "id": "4e5a28d6",
   "metadata": {},
   "outputs": [],
   "source": [
    "#Approach-2\n",
    "#User function Template for python3\n",
    "class Solution:\n",
    "    def areAnagram(ob, S1, S2):\n",
    "        # code here \n",
    "        return 1 if len(S1)==len(S2) and sorted(S1)==sorted(S2) else 0\n",
    "\n",
    "\n",
    "\n",
    "\n"
   ]
  },
  {
   "cell_type": "code",
   "execution_count": 7,
   "id": "b1bba2f7",
   "metadata": {},
   "outputs": [],
   "source": [
    "#Approach-3\n",
    "#User function Template for python3\n",
    "class Solution:\n",
    "    def areAnagram(ob, S1, S2):\n",
    "        # code here \n",
    "        if ''.join(sorted(S1)) == ''.join(sorted(S2)):\n",
    "            return \"1\"\n",
    "        else:\n",
    "            return \"0\"\n",
    "\n"
   ]
  },
  {
   "cell_type": "code",
   "execution_count": 8,
   "id": "a0744db3",
   "metadata": {},
   "outputs": [],
   "source": [
    "#Approach-5:\n",
    "#User function Template for python3\n",
    "class Solution:\n",
    "    def areAnagram(ob, S1, S2):\n",
    "        # code here \n",
    "        s1=list(S1)\n",
    "        s2=list(S2)\n",
    "        s1.sort()\n",
    "        s2.sort()\n",
    "        if s1==s2:\n",
    "            return 1\n",
    "        return 0        \n",
    "\n"
   ]
  },
  {
   "cell_type": "code",
   "execution_count": 9,
   "id": "af7aaee3",
   "metadata": {},
   "outputs": [],
   "source": [
    "#Approach-6:\n",
    "#User function Template for python3\n",
    "class Solution:\n",
    "    def areAnagram(ob, S1, S2):\n",
    "        # if(len(S1)!=len(S2)):\n",
    "            # return 0\n",
    "        def countt(s):\n",
    "            f_dict = {}\n",
    "            for i in s:\n",
    "                if i in f_dict:\n",
    "                    f_dict[i] += 1\n",
    "                else:\n",
    "                    f_dict[i] = 1\n",
    "            return f_dict\n",
    "    \n",
    "        f_dict1 = countt(S1)\n",
    "        f_dict2 = countt(S2)\n",
    "        \n",
    "        if f_dict1 == f_dict2:\n",
    "            return 1\n",
    "        else:\n",
    "            return 0\n"
   ]
  },
  {
   "cell_type": "code",
   "execution_count": 10,
   "id": "815ca505",
   "metadata": {},
   "outputs": [],
   "source": [
    "#Approach-7:\n",
    "#User function Template for python3\n",
    "from collections import Counter\n",
    "class Solution:\n",
    "    def areAnagram(ob, S1, S2):\n",
    "        if(Counter(S1) == Counter(S2)):\n",
    "            return 1\n",
    "        else:\n",
    "            return 0 \n",
    "\n",
    " \n",
    "        \n",
    "        #if (Counter(S1) == Counter(S2)):\n",
    "            #print(\"1\")\n",
    "        \n",
    "        #else:\n",
    "           #print(\"0\")\n"
   ]
  },
  {
   "cell_type": "code",
   "execution_count": null,
   "id": "d9eaa243",
   "metadata": {},
   "outputs": [],
   "source": []
  }
 ],
 "metadata": {
  "kernelspec": {
   "display_name": "Python 3 (ipykernel)",
   "language": "python",
   "name": "python3"
  },
  "language_info": {
   "codemirror_mode": {
    "name": "ipython",
    "version": 3
   },
   "file_extension": ".py",
   "mimetype": "text/x-python",
   "name": "python",
   "nbconvert_exporter": "python",
   "pygments_lexer": "ipython3",
   "version": "3.9.13"
  }
 },
 "nbformat": 4,
 "nbformat_minor": 5
}
