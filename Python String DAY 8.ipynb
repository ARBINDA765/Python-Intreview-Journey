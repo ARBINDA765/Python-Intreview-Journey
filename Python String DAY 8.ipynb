{
 "cells": [
  {
   "cell_type": "markdown",
   "id": "0f06cd48",
   "metadata": {},
   "source": [
    "# 1-Sum of numbers in string\n",
    "\n",
    "Input:\n",
    "\n",
    "str = 1abc23\n",
    "\n",
    "Output: 24\n",
    "\n",
    "Explanation: 1 and 23 are numbers in the string which is added to get the sum as\n",
    "24."
   ]
  },
  {
   "cell_type": "code",
   "execution_count": 25,
   "id": "a44c63fe",
   "metadata": {},
   "outputs": [
    {
     "name": "stdout",
     "output_type": "stream",
     "text": [
      "1   23\n"
     ]
    }
   ],
   "source": [
    "#Approach-1\n",
    "str = \"1abc23\"\n",
    "num_list=[]\n",
    "for i in str:\n",
    "    if i.isalpha():\n",
    "        str=str.replace(i,\" \")\n",
    "str=''.join(str)\n",
    "print(str)\n",
    "\n",
    "# for i in str:\n",
    "#     num_list.append(i)\n",
    "    \n",
    "# print(num_list) "
   ]
  },
  {
   "cell_type": "code",
   "execution_count": 35,
   "id": "9b8d1d97",
   "metadata": {},
   "outputs": [
    {
     "name": "stdout",
     "output_type": "stream",
     "text": [
      "100\n"
     ]
    }
   ],
   "source": [
    "# Python3 program to calculate sum of\n",
    "# all numbers present in a string\n",
    "# containing alphanumeric characters\n",
    "\n",
    "# Function to calculate sum of all\n",
    "# numbers present in a string\n",
    "# containing alphanumeric characters\n",
    "#Approcah-2\n",
    "import re\n",
    "str1 = \"12abc20yz68\"\n",
    "# Regular Expression that matches\n",
    "# digits in between a string\n",
    "#print(sum(map(int, re.findall('\\d+', str1))))\n",
    "\n",
    "num_list=re.findall('\\d+', str1)\n",
    "sum=0\n",
    "for i in num_list:\n",
    "    sum=sum+int(i)\n",
    "print(sum)\n",
    "    \n",
    "# Driver code\n",
    "# input alphanumeric string\n",
    "str1 = \"12abc20yz68\"\n",
    "\n",
    "\n"
   ]
  },
  {
   "cell_type": "code",
   "execution_count": 53,
   "id": "098a6cce",
   "metadata": {},
   "outputs": [
    {
     "name": "stdout",
     "output_type": "stream",
     "text": [
      "100\n"
     ]
    }
   ],
   "source": [
    "#Approach-3\n",
    "str1 = \"12abc20yz68\"\n",
    "temp='0'\n",
    "sum=0\n",
    "for i in str1:\n",
    "    if i.isdigit():\n",
    "        temp+=i\n",
    "    else:\n",
    "        sum+=int(temp)\n",
    "        temp='0'\n",
    "print(sum + int(temp))\n"
   ]
  },
  {
   "cell_type": "code",
   "execution_count": null,
   "id": "b20eb6e6",
   "metadata": {},
   "outputs": [],
   "source": [
    "\n",
    "#User function Template for python3\n",
    "\n",
    "class Solution:\n",
    "    \n",
    "    #Function to calculate sum of all numbers present in a string.\n",
    "    def findSum(self, s):\n",
    "        # Initialize variables to store the sum and the current number being formed\n",
    "        total_sum = 0\n",
    "        current_num = ''\n",
    "        \n",
    "        # Iterate through the characters of the string\n",
    "        for char in s:\n",
    "            # If the character is a digit, add it to the current number\n",
    "            if char.isdigit():\n",
    "                current_num += char\n",
    "            # If the character is not a digit and the current number is not empty, add it to the sum\n",
    "            elif current_num:\n",
    "                total_sum += int(current_num)\n",
    "                current_num = ''  # Reset the current number\n",
    "        \n",
    "        # Add the last number to the sum if the string ends with a number\n",
    "        if current_num:\n",
    "            total_sum += int(current_num)\n",
    "        \n",
    "        return total_sum\n",
    "\n",
    "        #code here\n",
    "\n"
   ]
  },
  {
   "cell_type": "code",
   "execution_count": null,
   "id": "0321d43e",
   "metadata": {},
   "outputs": [],
   "source": [
    "\n",
    "#User function Template for python3\n",
    "\n",
    "\n",
    "#User function Template for python3\n",
    "\n",
    "class Solution:\n",
    "    \n",
    "    #Function to calculate sum of all numbers present in a string.\n",
    "    def findSum(self,s):\n",
    "        #code here\n",
    "        s=s+\"a\"\n",
    "        temp,ans=\"\",0\n",
    "        for i in s:\n",
    "            if i.isnumeric():\n",
    "                temp+=i\n",
    "            else:\n",
    "                if len(temp)>=1:\n",
    "                 ans+=int(temp)\n",
    "                 temp=\"\"\n",
    "        return ans\n",
    "\n"
   ]
  },
  {
   "cell_type": "code",
   "execution_count": null,
   "id": "d549a367",
   "metadata": {},
   "outputs": [],
   "source": [
    "\n",
    "#User function Template for python3\n",
    "\n",
    "class Solution:\n",
    "    \n",
    "    #Function to calculate sum of all numbers present in a string.\n",
    "    def findSum(self,s):\n",
    "        #code here\n",
    "        Sum=0\n",
    "        n=0\n",
    "        char='0'\n",
    "        \n",
    "        while (n<len(s)):\n",
    "            if (ord(s[n])<ord('a')):\n",
    "                char+=s[n]\n",
    "            else:\n",
    "                Sum+=int(char)\n",
    "                char='0'\n",
    "            n+=1\n",
    "        Sum+=int(char)\n",
    "        return Sum\n",
    "\n"
   ]
  },
  {
   "cell_type": "code",
   "execution_count": null,
   "id": "b5029992",
   "metadata": {},
   "outputs": [],
   "source": [
    "\n",
    "#User function Template for python3\n",
    "\n",
    "class Solution:\n",
    "    def findSum(self,s):\n",
    "        \n",
    "        import re\n",
    "        pat = \"\\d+\"\n",
    "        match=re.findall(pat,s) \n",
    "        \n",
    "        return sum(map(int, match))\n",
    "        "
   ]
  },
  {
   "cell_type": "code",
   "execution_count": null,
   "id": "086e5c8b",
   "metadata": {},
   "outputs": [],
   "source": [
    "\n",
    "#User function Template for python3\n",
    "\n",
    "class Solution:\n",
    "    \n",
    "\n",
    "        \n",
    "    def findSum(self,s):\n",
    "        #code here\n",
    "        sum=0\n",
    "        num=0\n",
    "        for i in s:\n",
    "            if i.islower()==False:\n",
    "                num=num*10+int(i)\n",
    "            else:\n",
    "                sum=sum+num\n",
    "                num=0\n",
    "        if num!=0:\n",
    "            sum=sum+num\n",
    "        return sum"
   ]
  },
  {
   "cell_type": "code",
   "execution_count": null,
   "id": "1e3d762c",
   "metadata": {},
   "outputs": [],
   "source": [
    "\n",
    "#User function Template for python3\n",
    "\n",
    "class Solution:\n",
    "    \n",
    "    #Function to calculate sum of all numbers present in a string.\n",
    "    def findSum(self,s):\n",
    "        #code here\n",
    "        import re\n",
    "        numbers = re.findall(r'\\d+',s)\n",
    "        numbers = [int(i) for i in numbers]\n",
    "        return sum(numbers)\n",
    "\n"
   ]
  },
  {
   "cell_type": "markdown",
   "id": "f6a1def0",
   "metadata": {},
   "source": [
    "# Check for subsequence"
   ]
  },
  {
   "cell_type": "code",
   "execution_count": 79,
   "id": "0cc6b6c0",
   "metadata": {},
   "outputs": [
    {
     "name": "stdout",
     "output_type": "stream",
     "text": [
      "True\n"
     ]
    }
   ],
   "source": [
    "#Approach-1\n",
    "str1 = \"AXY\"\n",
    "str2 = \"ADXCPY\"\n",
    "i=0\n",
    "j=0\n",
    "while i <len(str1) and j < len(str2):\n",
    "    if str1[i]==str2[j]:\n",
    "        i=i+1\n",
    "        j=j+1\n",
    "    else:\n",
    "        j=j+1\n",
    "if i==len(str1):\n",
    "    print(True)\n",
    "else:\n",
    "    print(False)\n",
    "\n",
    "                   "
   ]
  },
  {
   "cell_type": "code",
   "execution_count": 78,
   "id": "600758d7",
   "metadata": {},
   "outputs": [
    {
     "name": "stdout",
     "output_type": "stream",
     "text": [
      "False\n"
     ]
    }
   ],
   "source": [
    "#User function Template for python3\n",
    "A = \"AYX\"\n",
    "B = \"ADXCPY\"\n",
    "i = j = 0\n",
    "#iterating over A and B to check if characters match.\n",
    "while i < len(B) and j < len(A):\n",
    "    #print(\"1st\",i,A[i])\n",
    "    #print(\"*----\")\n",
    "    #print(\"2nd\",j,B[j])\n",
    "    if A[j] == B[i]:\n",
    "        j += 1\n",
    "    else:\n",
    "        i+=1\n",
    "    \n",
    "        #returning True if A is a subsequence of B, else False.\n",
    "print( j == len(A))\n",
    "            \n"
   ]
  },
  {
   "cell_type": "code",
   "execution_count": null,
   "id": "e6e73f41",
   "metadata": {},
   "outputs": [],
   "source": [
    "#User function Template for python3\n",
    "\n",
    "class Solution:\n",
    "    def isSubSequence(self, A, B):\n",
    "        #code here\n",
    "        j=0\n",
    "        for i in range(len(B)):\n",
    "            if(A[j]==B[i]):\n",
    "                j+=1\n",
    "            if(j==len(A)):\n",
    "                return True\n",
    "        return False"
   ]
  },
  {
   "cell_type": "code",
   "execution_count": 33,
   "id": "dc35f3a5",
   "metadata": {},
   "outputs": [],
   "source": [
    "\n",
    "\n",
    "class Solution:\n",
    "    def isSubSequence(self, A, B):\n",
    "        #code here\n",
    "        n=len(B)\n",
    "        j=0\n",
    "        count=0\n",
    "        for i in range(n):\n",
    "            if (j<len(A) and A[j] ==B[i]):\n",
    "                j+=1\n",
    "\n",
    "           \n",
    "        \n",
    "        return j==len(A)\n"
   ]
  },
  {
   "cell_type": "markdown",
   "id": "59202153",
   "metadata": {},
   "source": [
    "# Print first letter of every word in the string\n"
   ]
  },
  {
   "cell_type": "code",
   "execution_count": 94,
   "id": "2eceb55f",
   "metadata": {},
   "outputs": [],
   "source": [
    "s=\"Bad is Good\"\n",
    "#output=BiG"
   ]
  },
  {
   "cell_type": "code",
   "execution_count": 104,
   "id": "0f988af3",
   "metadata": {},
   "outputs": [
    {
     "name": "stdout",
     "output_type": "stream",
     "text": [
      "BiG\n"
     ]
    }
   ],
   "source": [
    "s1=s.split(\" \")\n",
    "Result=''\n",
    "for i in range(len(s1)):\n",
    "    Result=Result+s1[i][0]\n",
    "print(Result)"
   ]
  },
  {
   "cell_type": "markdown",
   "id": "84a45320",
   "metadata": {},
   "source": [
    "# Remove character\n",
    "Input:\n",
    "\n",
    "string1 = \"computer\"\n",
    "\n",
    "string2 = \"cat\"\n",
    "\n",
    "Output: \"ompuer\"\n",
    "\n",
    "#Explanation: After removing characters(c, a, t) from string1 we get \"ompuer"
   ]
  },
  {
   "cell_type": "code",
   "execution_count": 109,
   "id": "6e64ac24",
   "metadata": {},
   "outputs": [
    {
     "name": "stdout",
     "output_type": "stream",
     "text": [
      "ACD\n"
     ]
    }
   ],
   "source": [
    "string1 = \"ABCD\"\n",
    "string2 = \"AB\"\n",
    "for i in string1:\n",
    "    if i in string2:\n",
    "        s=string1.replace(i,'')\n",
    "print(s)"
   ]
  },
  {
   "cell_type": "code",
   "execution_count": 124,
   "id": "b97e1eae",
   "metadata": {},
   "outputs": [
    {
     "name": "stdout",
     "output_type": "stream",
     "text": [
      "ompuer\n"
     ]
    }
   ],
   "source": [
    "string1 = \"computer\"\n",
    "string2 = \"cat\"\n",
    "Result=\"\"\n",
    "for i in string1:\n",
    "    if i not in string2:\n",
    "        Result+=(i)\n",
    "print(Result)      "
   ]
  },
  {
   "cell_type": "code",
   "execution_count": 123,
   "id": "88300890",
   "metadata": {},
   "outputs": [
    {
     "name": "stdout",
     "output_type": "stream",
     "text": [
      "ompuer\n"
     ]
    }
   ],
   "source": [
    "print(Result)"
   ]
  },
  {
   "cell_type": "code",
   "execution_count": null,
   "id": "30b3afb5",
   "metadata": {},
   "outputs": [],
   "source": [
    "#User function Template for python3\n",
    "\n",
    "class Solution:\n",
    "    def removeChars (ob, string1, string2):\n",
    "        # code here \n",
    "        s = set(string2)\n",
    "        res = \"\"\n",
    "        for i in string1:\n",
    "            if i not in s:\n",
    "                res += i\n",
    "        return res\n"
   ]
  },
  {
   "cell_type": "markdown",
   "id": "0b2c7df9",
   "metadata": {},
   "source": [
    "# Merge two strings\n",
    "\n",
    "      Input:\n",
    "     S1 = \"Hello\" S2 = \"Bye\"\n",
    "     Output: HBeylelo\n",
    "     Explanation: The characters of both the \n",
    "          given strings are arranged alternatlively."
   ]
  },
  {
   "cell_type": "code",
   "execution_count": 125,
   "id": "516d1ee1",
   "metadata": {},
   "outputs": [],
   "source": [
    "S1 = \"Hello\" \n",
    "S2 = \"Bye\"\n",
    "list_S1=list(S1)\n",
    "list_S2=list(S2)\n",
    "#HBeylelo"
   ]
  },
  {
   "cell_type": "code",
   "execution_count": 126,
   "id": "338085be",
   "metadata": {},
   "outputs": [
    {
     "data": {
      "text/plain": [
       "['H', 'e', 'l', 'l', 'o']"
      ]
     },
     "execution_count": 126,
     "metadata": {},
     "output_type": "execute_result"
    }
   ],
   "source": [
    "list_S1"
   ]
  },
  {
   "cell_type": "code",
   "execution_count": 127,
   "id": "9148e29d",
   "metadata": {},
   "outputs": [
    {
     "data": {
      "text/plain": [
       "['B', 'y', 'e']"
      ]
     },
     "execution_count": 127,
     "metadata": {},
     "output_type": "execute_result"
    }
   ],
   "source": [
    "list_S2"
   ]
  },
  {
   "cell_type": "code",
   "execution_count": 141,
   "id": "363e40cf",
   "metadata": {},
   "outputs": [
    {
     "ename": "IndentationError",
     "evalue": "expected an indented block (Temp/ipykernel_20832/3918209796.py, line 5)",
     "output_type": "error",
     "traceback": [
      "\u001b[1;36m  File \u001b[1;32m\"C:\\Users\\arabi\\AppData\\Local\\Temp/ipykernel_20832/3918209796.py\"\u001b[1;36m, line \u001b[1;32m5\u001b[0m\n\u001b[1;33m    Result=list_S1[i]+list_S2[j]\u001b[0m\n\u001b[1;37m                                ^\u001b[0m\n\u001b[1;31mIndentationError\u001b[0m\u001b[1;31m:\u001b[0m expected an indented block\n"
     ]
    }
   ],
   "source": [
    "Result=\"\"\n",
    "for i in range(0,len(list_S1)):\n",
    "    for j in range(0,len(list_S2)):\n",
    "        if i==j:\n",
    "Result=list_S1[i]+list_S2[j]\n",
    "    \n",
    "print(Result)\n",
    "            "
   ]
  },
  {
   "cell_type": "code",
   "execution_count": null,
   "id": "a21019bf",
   "metadata": {},
   "outputs": [],
   "source": [
    "#User function Template for python3\n",
    "class Solution:\n",
    "    def merge(self, S1, S2):\n",
    "        result=[]\n",
    "        i=0\n",
    "        j=0\n",
    "        \n",
    "        while i<len(S1) and j<len(S2):\n",
    "            result.append(S1[i])\n",
    "            result.append(S2[j])\n",
    "            i+=1\n",
    "            j+=1\n",
    "            \n",
    "        while i<len(S1):\n",
    "            result.append(S1[i])\n",
    "            i+=1\n",
    "            \n",
    "        while j<len(S2):\n",
    "            result.append(S2[j])\n",
    "            j+=1\n",
    "            \n",
    "        return ''.join(result)\n",
    "            \n",
    "        \n"
   ]
  },
  {
   "cell_type": "code",
   "execution_count": null,
   "id": "c2b7e070",
   "metadata": {},
   "outputs": [],
   "source": [
    "#User function Template for python3\n",
    "class Solution:\n",
    "    def merge(self, S1, S2):\n",
    "        k=\"\"\n",
    "        i=0\n",
    "        j=0\n",
    "        while i<len(S1) and j<len(S2):\n",
    "                k+=S1[i]\n",
    "                k+=S2[j]\n",
    "                i+=1\n",
    "                j+=1\n",
    "        k+=S1[i:]\n",
    "        k+=S2[j:]\n",
    "        return k\n",
    "            \n"
   ]
  },
  {
   "cell_type": "code",
   "execution_count": null,
   "id": "af32de89",
   "metadata": {},
   "outputs": [],
   "source": [
    "#User function Template for python3\n",
    "class Solution:\n",
    "    def merge(self, S1, S2):\n",
    "        # code here\n",
    "        result =\"\"\n",
    "        for i in range(max(len(S1), len(S2))):\n",
    "            if i< len(S1):\n",
    "                result +=S1[i]\n",
    "            if i < len(S2):\n",
    "                result +=S2[i]\n",
    "        return result        \n",
    "        \n",
    "            \n"
   ]
  },
  {
   "cell_type": "code",
   "execution_count": 34,
   "id": "a2f90f58",
   "metadata": {},
   "outputs": [],
   "source": [
    "# User function Template for python3\n",
    "class Solution:\n",
    "    def merge(self, S1, S2):\n",
    "        # code here\n",
    "        l1=len(S1)\n",
    "        l2=len(S2)\n",
    "        a=min(l1,l2)\n",
    "        s=''\n",
    "        for i in range(a):\n",
    "            s=s+S1[i]+S2[i]\n",
    "        if l1!=a:\n",
    "            s=s+S1[a:]\n",
    "        else:\n",
    "            s=s+S2[a:]\n",
    "        return s\n",
    "            \n",
    "        \n"
   ]
  },
  {
   "cell_type": "code",
   "execution_count": 142,
   "id": "6aae5270",
   "metadata": {},
   "outputs": [
    {
     "data": {
      "text/plain": [
       "'aXbYcZT'"
      ]
     },
     "execution_count": 142,
     "metadata": {},
     "output_type": "execute_result"
    }
   ],
   "source": [
    "word1=\"abc\"\n",
    "word2=\"XYZT\"\n",
    "i=0\n",
    "j=0\n",
    "Result=[]\n",
    "while i <len(word1) and j<len(word2):\n",
    "    Result.append(word1[i])\n",
    "    Result.append(word2[j])\n",
    "    i+=1\n",
    "    j+=1\n",
    "Result.append(word1[i:])\n",
    "Result.append(word2[j:])\n",
    "''.join(Result)\n",
    "    "
   ]
  },
  {
   "cell_type": "markdown",
   "id": "00c8eb48",
   "metadata": {},
   "source": [
    "# Extract Maximum\n",
    "               Input:\n",
    "     S = 100klh564abc365bg\n",
    "    Output: 564\n",
    "     Explanation: Maximum numeric value \n",
    "     among 100, 564 and 365 is 564."
   ]
  },
  {
   "cell_type": "code",
   "execution_count": null,
   "id": "486b8aaa",
   "metadata": {},
   "outputs": [],
   "source": [
    "#User function Template for python3\n",
    "#Approach-3\n",
    "import re \n",
    "class Solution:\n",
    "    def extractMaximum(self,S): \n",
    "        # code here\n",
    "        \n",
    "        finder=re.findall(r'\\d+',S)\n",
    "        finder=[int(x) for x in finder]\n",
    "        if(len(finder)==0):\n",
    "            return -1\n",
    "        return max(finde)"
   ]
  },
  {
   "cell_type": "code",
   "execution_count": 27,
   "id": "3c742fc3",
   "metadata": {},
   "outputs": [
    {
     "name": "stdout",
     "output_type": "stream",
     "text": [
      "11111\n"
     ]
    }
   ],
   "source": [
    "#Approach-2\n",
    "num_list=[]\n",
    "S = \"100klh564abc365bg11111\"\n",
    "for i in S:\n",
    "    if i.isalpha():\n",
    "        S=S.replace(i,' ')\n",
    "\n",
    "S=S.split()\n",
    "for i in S:\n",
    "    num_list.append(int(i))\n",
    "\n",
    "if len(num_list)==0:\n",
    "    print(-1)\n",
    "else:\n",
    "    print(max(num_list))"
   ]
  },
  {
   "cell_type": "code",
   "execution_count": null,
   "id": "a8b98c20",
   "metadata": {},
   "outputs": [],
   "source": [
    "#User function Template for python3\n",
    "class Solution:\n",
    "    def extractMaximum(self,s): \n",
    "        l = []\n",
    "        i = 0\n",
    "        while i<len(s):\n",
    "            j = i\n",
    "            x = \"\"\n",
    "            while s[j].isnumeric():\n",
    "                x = x + s[j]\n",
    "                j+=1\n",
    "                if j>=len(s):\n",
    "                    break\n",
    "            if len(x)>=1:\n",
    "                l.append(int(x))\n",
    "                i = i + len(x)\n",
    "            else:\n",
    "                i = i + 1\n",
    "        if len(l)>=1:\n",
    "            return max(l) \n",
    "        else:\n",
    "            return -1"
   ]
  },
  {
   "cell_type": "code",
   "execution_count": 10,
   "id": "9bbacc30",
   "metadata": {},
   "outputs": [
    {
     "name": "stdout",
     "output_type": "stream",
     "text": [
      "11111\n"
     ]
    }
   ],
   "source": [
    "#Approach -1\n",
    "\n",
    "num_list=[]\n",
    "string_store=''\n",
    "for i in S:\n",
    "    if i.isdigit():\n",
    "        string_store+=i\n",
    "    else:\n",
    "        if len(string_store)!=0:\n",
    "            num_list.append(int(string_store))\n",
    "            string_store=''\n",
    "            \n",
    "if len(string_store)!=0:\n",
    "    num_list.append(int(string_store))\n",
    "\n",
    "if not num_list:\n",
    "    print(-1)\n",
    "    \n",
    "else:\n",
    "    print(max(num_list))\n",
    "        "
   ]
  },
  {
   "cell_type": "markdown",
   "id": "6a453a0e",
   "metadata": {},
   "source": [
    "# Find the Maximum number from a string\n",
    "\n",
    "# Find the Minimum number from a string\n",
    "\n",
    "\n",
    "# Find the sum number from a string\n",
    "# Find the nth highest number from a string\n",
    "# Find the nth lowest  number from a string\n",
    "\n"
   ]
  },
  {
   "cell_type": "code",
   "execution_count": 13,
   "id": "0083b2f5",
   "metadata": {},
   "outputs": [
    {
     "name": "stdout",
     "output_type": "stream",
     "text": [
      "12140\n",
      "100\n",
      "564\n"
     ]
    },
    {
     "data": {
      "text/plain": [
       "[11111, 564, 365, 100]"
      ]
     },
     "execution_count": 13,
     "metadata": {},
     "output_type": "execute_result"
    }
   ],
   "source": [
    "num_list=[]\n",
    "S = \"100klh564abc365bg11111\"\n",
    "res_str=\"\"\n",
    "for i in S:\n",
    "    if i.isdigit():\n",
    "        res_str+=i\n",
    "    else:\n",
    "        if len(res_str)!=0:\n",
    "            num_list.append(int(res_str))\n",
    "            res_str=''\n",
    "if len(res_str)!=0:\n",
    "    num_list.append(int(res_str))\n",
    "\n",
    "if not num_list:\n",
    "    print(-1)\n",
    "    \n",
    "else:\n",
    "    print(sum(num_list))#Sum\n",
    "    print(min(num_list))#min\n",
    "    \n",
    "#num_list.sort()#Ascending\n",
    "num_list.sort(reverse=True)\n",
    "print(num_list[1])#2nd highest\n",
    "#sorted(num_list,reverse=True)\n"
   ]
  },
  {
   "cell_type": "markdown",
   "id": "7831178c",
   "metadata": {},
   "source": [
    "# /Good or Bad string"
   ]
  },
  {
   "cell_type": "code",
   "execution_count": null,
   "id": "dbcba1a4",
   "metadata": {},
   "outputs": [],
   "source": [
    "# /Good or Bad string\n",
    "S = \"aeioup??\"\n",
    "#S = \"bcdaeiou??\"\n",
    "vowels=\"aeiou\"\n",
    "vow_str=\"\"\n",
    "Not_Alpha_str=\"\"\n",
    "Only_Alpha=\"\"\n",
    "for i in S:\n",
    "    if i.isalpha() and i in vowels:\n",
    "        vow_str+=i\n",
    "    elif not i.isalpha():\n",
    "        Not_Alpha_str+=i\n",
    "    elif i.isalpha() and not i.isdigit() and i not  in vowels:\n",
    "        Only_Alpha+=i\n",
    "\n",
    "if (len(Only_Alpha)+len(Not_Alpha_str)) > 3 or len(vow_str)>5:\n",
    "    print(\"0\")\n",
    "else:\n",
    "    print(\"1\")\n",
    "    \n",
    "# print(len(vow_str))\n",
    "# print((vow_str))\n",
    "# #print(Not_Alpha_str)\n",
    "# #print(Only_Alpha)\n",
    "        \n",
    "# #if count_cons > 3 or count_vow >5:    \n",
    "        \n",
    "    "
   ]
  },
  {
   "cell_type": "code",
   "execution_count": 59,
   "id": "4c8fc826",
   "metadata": {},
   "outputs": [
    {
     "name": "stdout",
     "output_type": "stream",
     "text": [
      "3\n",
      "2\n",
      "1\n"
     ]
    }
   ],
   "source": [
    "#User function Template for python3\n",
    " # code here \n",
    "S = \"aeioup??\"\n",
    "vowels = ['a','e','i','o','u']\n",
    "countVowel = 0\n",
    "countCons = 0\n",
    "        \n",
    "for i in S:\n",
    "    if i == \"?\":\n",
    "        countVowel +=1\n",
    "        countCons += 1\n",
    "                \n",
    "    elif i in vowels:\n",
    "        countVowel += 1\n",
    "        countCons = 0\n",
    "    else:\n",
    "        countCons += 1\n",
    "        countVowel = 0\n",
    "print(countCons)\n",
    "print(countVowel)\n",
    "if countCons > 3 or countVowel > 5:\n",
    "    print(\"0\")\n",
    "else:\n",
    "    print(\"1\")\n",
    "        \n"
   ]
  },
  {
   "cell_type": "code",
   "execution_count": 68,
   "id": "35cda4e4",
   "metadata": {},
   "outputs": [
    {
     "name": "stdout",
     "output_type": "stream",
     "text": [
      "299\n"
     ]
    }
   ],
   "source": [
    "#Function to find matching decimal representation of a string as on the keypad.\n",
    "s=\"AZZ\"\n",
    "Result=''\n",
    "char_to_digit = {\n",
    "        'a': '2', 'b': '2', 'c': '2',\n",
    "        'd': '3', 'e': '3', 'f': '3',\n",
    "        'g': '4', 'h': '4', 'i': '4',\n",
    "        'j': '5', 'k': '5', 'l': '5',\n",
    "        'm': '6', 'n': '6', 'o': '6',\n",
    "        'p': '7', 'q': '7', 'r': '7', 's': '7',\n",
    "        't': '8', 'u': '8', 'v': '8',\n",
    "        'w': '9', 'x': '9', 'y': '9', 'z': '9'\n",
    "    }\n",
    "    \n",
    "# s1 = ''.join(char_to_digit[char] for char in s.lower() if char in char_to_digit)\n",
    "#     return int(s1)\n",
    "\n",
    "for char in s.lower():\n",
    "    if char in char_to_digit:\n",
    "        Result=Result+''.join(char_to_digit[char])\n",
    "    \n",
    "print(Result)"
   ]
  },
  {
   "cell_type": "code",
   "execution_count": 71,
   "id": "c82cda8a",
   "metadata": {},
   "outputs": [
    {
     "name": "stdout",
     "output_type": "stream",
     "text": [
      "299\n"
     ]
    }
   ],
   "source": [
    "#User function Template for python3\n",
    "s=\"AZZ\"\n",
    "outpt = ''\n",
    "for i in s.lower():\n",
    "    if i in 'abc':\n",
    "        outpt += '2'\n",
    "    elif i in 'def':\n",
    "        outpt += '3'\n",
    "    elif i in 'ghi':\n",
    "        outpt += '4'\n",
    "    elif i in 'jkl':\n",
    "        outpt += '5'\n",
    "    elif i in 'mno':\n",
    "        outpt += '6'\n",
    "    elif i in 'pqrs':\n",
    "        outpt += '7'\n",
    "    elif i in 'tuv':\n",
    "        outpt += '8'\n",
    "    elif i in 'wxyz':\n",
    "        outpt += '9'\n",
    "print(outpt)\n",
    "    #CODE HERE\n",
    "    \n"
   ]
  },
  {
   "cell_type": "code",
   "execution_count": null,
   "id": "9fa167c2",
   "metadata": {},
   "outputs": [],
   "source": [
    "#Back-end complete function Template for Python 3\n",
    "\n",
    "\n",
    "#Function to find matching decimal representation of a string as on the keypad.\n",
    "def printNumber(s,n):\n",
    "    \n",
    "    d={'a':2,'b':2,'c':2,'d':3,'e':3,'f':3,'g':4,'h':4,'i':4,'j':5,'k':5,'l':5,\n",
    "    'm':6,'n':6,'o':6,'p':7,'q':7,'r':7,'s':7,'t':8,'u':8,'v':8,'w':9,'x':9,\n",
    "    'y':9,'z':9}\n",
    "    \n",
    "    ns=''\n",
    "    \n",
    "    #iterating over the string.\n",
    "    for e in s:\n",
    "        \n",
    "        #concatenating the number on the keypad which has the \n",
    "        #current character to the answer.\n",
    "        ns+=str(d[e])\n",
    "        \n",
    "    #returning the answer.\n",
    "    return (ns)\n",
    "\n"
   ]
  },
  {
   "cell_type": "markdown",
   "id": "c7b01849",
   "metadata": {},
   "source": [
    "# Remove consonants from a string\n",
    "\n",
    "          Input\n",
    "      S = \"abEkipo\"\n",
    "     Output\n",
    "     aEio\n",
    "    Explanation : a, E, i, o are only vowels in the string.\n"
   ]
  },
  {
   "cell_type": "code",
   "execution_count": 72,
   "id": "a5d1ebe3",
   "metadata": {},
   "outputs": [
    {
     "name": "stdout",
     "output_type": "stream",
     "text": [
      "aEio\n"
     ]
    }
   ],
   "source": [
    "\n",
    "class Solution:\n",
    "    def removeConsonants(self, s):\n",
    "        vowels=\"aeiouAEIOU\"\n",
    "        res=\"\"\n",
    "        for i in s:\n",
    "            if i in vowels:\n",
    "                res+=i\n",
    "        if len(res)==0:\n",
    "            return \"No Vowel\"\n",
    "        else:\n",
    "            return res"
   ]
  },
  {
   "cell_type": "markdown",
   "id": "d84b2b5c",
   "metadata": {},
   "source": [
    "# Change the string\n",
    "    Input:\n",
    "    S = \"abCD\"\n",
    "    Output: abcd\n",
    "    Explanation: The first letter (a) is \n",
    "    lowercase. Hence, the complete string is made lowercase."
   ]
  },
  {
   "cell_type": "code",
   "execution_count": 74,
   "id": "c89e9a61",
   "metadata": {},
   "outputs": [
    {
     "name": "stdout",
     "output_type": "stream",
     "text": [
      "ABCD\n"
     ]
    }
   ],
   "source": [
    "#S = \"abCD\"\n",
    "S=\"Abcd\"\n",
    "res=\"\"\n",
    "for i in range(0,len(S)):\n",
    "    if S[0].islower():\n",
    "        res=S.lower()\n",
    "    elif S[0].isupper():\n",
    "        res=S.upper()\n",
    "print(res)\n",
    "        "
   ]
  },
  {
   "cell_type": "markdown",
   "id": "0f454db1",
   "metadata": {},
   "source": [
    "# Sort a String\n",
    "      Input:\n",
    "      S = \"edcab\"\n",
    "      Output: \"abcde\"\n",
    "     Explanation: characters are in ascending order in \"abcde\"\n"
   ]
  },
  {
   "cell_type": "code",
   "execution_count": 77,
   "id": "550deb87",
   "metadata": {},
   "outputs": [],
   "source": [
    "S = \"edcab\"\n",
    "S_List=list(S)\n",
    "Result=\"\"\n",
    "S_List.sort()\n",
    "Result=''.join(S_List)\n"
   ]
  },
  {
   "cell_type": "markdown",
   "id": "d03ef0b6",
   "metadata": {},
   "source": [
    "# Red OR Green\n",
    "\n",
    "     Given a string of length N, made up of only uppercase characters 'R' and 'G', where 'R' stands for Red and 'G' stands for Green.\n",
    "     Find out the minimum number of characters you need to change to make the whole string of the same colour.\n",
    "     \n",
    "     Input:\n",
    "      N=5\n",
    "      S=\"RGRGR\"\n",
    "     Output:\n",
    "      2\n",
    "     Explanation:\n",
    "     We need to change only the 2nd and 4th(1-index based) characters to 'R', so that the whole string becomes the same colour."
   ]
  },
  {
   "cell_type": "code",
   "execution_count": 88,
   "id": "3b47f00e",
   "metadata": {},
   "outputs": [],
   "source": [
    "S=\"RGRGR\"\n",
    "init=\"RGB\"\n",
    "d={}\n",
    "for i in S:\n",
    "    d=S.count(i)\n"
   ]
  },
  {
   "cell_type": "code",
   "execution_count": 117,
   "id": "5d2181d3",
   "metadata": {},
   "outputs": [
    {
     "data": {
      "text/plain": [
       "1"
      ]
     },
     "execution_count": 117,
     "metadata": {},
     "output_type": "execute_result"
    }
   ],
   "source": [
    "#S=\"RGRGR\"\n",
    "S=\"GGGGGGR\"\n",
    "dict1={}\n",
    "for a in S:\n",
    "    dict1[a]=dict1.get(a,0)+1\n",
    "min(dict1.values())\n",
    "    "
   ]
  },
  {
   "cell_type": "code",
   "execution_count": 119,
   "id": "35357ad3",
   "metadata": {},
   "outputs": [
    {
     "name": "stdout",
     "output_type": "stream",
     "text": [
      "1\n"
     ]
    }
   ],
   "source": [
    "#User function Template for python3\n",
    "S=\"GGGGGGR\"\n",
    "N=7\n",
    "\n",
    "count_R = S.count('R')  # Count occurrences of 'R'\n",
    "count_G = N - count_R  # Count occurrences of 'G' (total - 'R')\n",
    "        \n",
    "        # Choose the color with the fewer occurrences\n",
    "min_changes = min(count_R, count_G)\n",
    "        \n",
    "print( min_changes)\n",
    "        #code here\n"
   ]
  },
  {
   "cell_type": "code",
   "execution_count": null,
   "id": "97e149f1",
   "metadata": {},
   "outputs": [],
   "source": [
    "#User function Template for python3\n",
    "\n",
    "class Solution:\n",
    "    def RedOrGreen(self,N,s):\n",
    "        #code here\n",
    "        cnt_r=0\n",
    "        cnt_g=0\n",
    "\n",
    "        cnt_r = s.count('R')\n",
    "        cnt_g = s.count('G')\n",
    "        if cnt_r > cnt_g:\n",
    "            return cnt_g\n",
    "        else:\n",
    "            return cnt_r\n"
   ]
  },
  {
   "cell_type": "markdown",
   "id": "131c6b76",
   "metadata": {},
   "source": [
    "# Count the characters\n",
    "      Given a string S. Count the characters that have ‘N’ number of occurrences. If a character appears consecutively it is counted as 1 occurrence.\n",
    "\n",
    "     S = \"geeksforgeeks\", N = 2\n",
    "     \n",
    "     Explanation: 'g', 'e', 'k' and 's' have 2 occurrences."
   ]
  },
  {
   "cell_type": "code",
   "execution_count": 170,
   "id": "8588c681",
   "metadata": {},
   "outputs": [
    {
     "name": "stdout",
     "output_type": "stream",
     "text": [
      "3\n",
      "['g', 's', 'e']\n"
     ]
    }
   ],
   "source": [
    "S =\"geeksforgeekskk\"\n",
    "res=\"\"\n",
    "res_list=[]\n",
    "dict1={}\n",
    "for i in range(1,len(S)):\n",
    "    if S[i]==S[i-1]:\n",
    "        res+=S[i]\n",
    "for i in res:\n",
    "    if i in S:\n",
    "        S=S.replace(i,'')\n",
    "S=S+res\n",
    "for i in S:\n",
    "    dict1[i]=dict1.get(i,0)+1\n",
    "\n",
    "for i in dict1.items():\n",
    "    if i[1]==2:\n",
    "        res_list.append((i[0]))\n",
    "print(len(res_list))\n",
    "\n",
    "        \n",
    "    "
   ]
  },
  {
   "cell_type": "code",
   "execution_count": 159,
   "id": "dabf219c",
   "metadata": {},
   "outputs": [
    {
     "name": "stdout",
     "output_type": "stream",
     "text": [
      "{'g': 2, 'k': 2, 's': 2, 'f': 1, 'o': 1, 'r': 1, 'e': 2}\n"
     ]
    }
   ],
   "source": [
    "print(dict1)"
   ]
  },
  {
   "cell_type": "code",
   "execution_count": 7,
   "id": "cbd0cad4",
   "metadata": {},
   "outputs": [
    {
     "name": "stdout",
     "output_type": "stream",
     "text": [
      "1\n",
      "['k']\n"
     ]
    }
   ],
   "source": [
    "from collections import Counter\n",
    "N=3\n",
    "temp = ''\n",
    "list_c=[]\n",
    "s =\"geekksforgeekkskkk\"\n",
    "for i in range(len(s)-1):\n",
    "    if s[i]==s[i+1]:\n",
    "        continue\n",
    "    else:\n",
    "        temp+=s[i]\n",
    "temp+=s[-1]\n",
    "d = Counter(temp)\n",
    "#f = sorted(d.values())\n",
    "v = sorted(d)\n",
    "c = 0\n",
    "for i in v:\n",
    "    if d[i]==N:\n",
    "        c+=1\n",
    "        list_c.append(i)\n",
    "        \n",
    "print(c)\n",
    "print(list_c)\n",
    "            \n"
   ]
  },
  {
   "cell_type": "code",
   "execution_count": null,
   "id": "c49900f3",
   "metadata": {},
   "outputs": [],
   "source": []
  }
 ],
 "metadata": {
  "kernelspec": {
   "display_name": "Python 3 (ipykernel)",
   "language": "python",
   "name": "python3"
  },
  "language_info": {
   "codemirror_mode": {
    "name": "ipython",
    "version": 3
   },
   "file_extension": ".py",
   "mimetype": "text/x-python",
   "name": "python",
   "nbconvert_exporter": "python",
   "pygments_lexer": "ipython3",
   "version": "3.9.13"
  }
 },
 "nbformat": 4,
 "nbformat_minor": 5
}
