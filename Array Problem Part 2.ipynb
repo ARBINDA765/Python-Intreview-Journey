{
 "cells": [
  {
   "cell_type": "markdown",
   "id": "cb712255",
   "metadata": {},
   "source": [
    "# 1- Find Index\n",
    "\n",
    "    Given an unsorted array arr[] of n integers and a key which is present in this array. You need to write a program to find the start index( index where the element is first found from left in the array ) and end index( index where the element is first found from right in the array ).(0 based indexing is used)\n",
    "    If the key does not exist in the array then return -1 for both start and end index in this case.\n",
    "\n",
    "    Example 1:\n",
    "\n",
    "    Input:\n",
    "    n = 6\n",
    "    arr[] = { 1, 2, 3, 4, 5, 5 }\n",
    "    key = 5\n",
    "    Output:  {4, 5}\n",
    "    Explanation:\n",
    "    5 appears first time at index 4 and appears last time at index 5.\n",
    "    (0 based indexing)\n",
    "    Example 2:\n",
    "\n",
    "    Input:\n",
    "    n = 6\n",
    "    arr = { 6, 5, 4, 3, 1, 2 }\n",
    "    key = 4\n",
    "    Output:  {2, 2} \n",
    "    Explanation:\n",
    "    4 appears first time and last time at index 2."
   ]
  },
  {
   "cell_type": "code",
   "execution_count": 13,
   "id": "dd201069",
   "metadata": {},
   "outputs": [],
   "source": [
    "import array as arr\n",
    "s=arr.array('i',[ 6, 5, 4, 3, 1, 2])\n",
    "#s=arr.array('i',[1, 2, 3, 4, 5, 5])\n",
    "key = 4\n",
    "#key=5"
   ]
  },
  {
   "cell_type": "code",
   "execution_count": 21,
   "id": "53d8d147",
   "metadata": {},
   "outputs": [
    {
     "name": "stdout",
     "output_type": "stream",
     "text": [
      "[-1, -1]\n"
     ]
    }
   ],
   "source": [
    "#Approach-1\n",
    "#code here.\n",
    "s=arr.array('i',[1, 2, 3, 4, 5, 5])\n",
    "n = 6\n",
    "key= 9\n",
    "start_index = -1\n",
    "end_index = -1\n",
    "        \n",
    "for i in range(n):\n",
    "    if s[i] == key:\n",
    "        start_index = i\n",
    "        break\n",
    "for i in range(n-1,-1 , -1):\n",
    "    if s[i] == key:\n",
    "        end_index = i\n",
    "        break\n",
    "        \n",
    "print([start_index, end_index])"
   ]
  },
  {
   "cell_type": "markdown",
   "id": "ad043a05",
   "metadata": {},
   "source": [
    "# 2- Swap kth elements\n",
    "\n",
    "\n",
    "    Given an array arr of size n, swap the kth element from the beginning with kth element from the end.\n",
    "\n",
    "    Example 1:\n",
    "\n",
    "    Input:\n",
    "    n = 8\n",
    "    k = 3\n",
    "    arr[] = {1, 2, 3, 4, 5, 6, 7, 8}\n",
    "    Output: {1, 2, 6, 4, 5, 3, 7, 8}\n",
    "    Explanation:\n",
    "    3rd element from beginning is 3 and from end is 6.\n",
    "    Example 2:\n",
    "\n",
    "    Input:\n",
    "    n = 5\n",
    "    k = 2\n",
    "    arr[] = {5, 3, 6, 1, 2}\n",
    "    Output: {5, 1, 6, 3, 2}\n",
    "    Explanation: \n",
    "    2nd element from beginning is 3 and from end is 1."
   ]
  },
  {
   "cell_type": "code",
   "execution_count": 5,
   "id": "6809c7a0",
   "metadata": {},
   "outputs": [
    {
     "name": "stdout",
     "output_type": "stream",
     "text": [
      "array('i', [1, 2, 6, 4, 5, 3, 7, 8])\n"
     ]
    }
   ],
   "source": [
    "#Approach-2\n",
    "import array as arr\n",
    "\n",
    "s = arr.array('i', [1, 2, 3, 4, 5, 6, 7, 8])\n",
    "k = 3\n",
    "n = 8\n",
    "\n",
    "start_index = k - 1\n",
    "end_index = n - k\n",
    "\n",
    "temp = s[start_index]\n",
    "s[start_index] = s[end_index]\n",
    "s[end_index] = temp\n",
    "\n",
    "print(s)\n"
   ]
  },
  {
   "cell_type": "code",
   "execution_count": 34,
   "id": "4b80def0",
   "metadata": {},
   "outputs": [
    {
     "data": {
      "text/plain": [
       "array('i', [1, 2, 6, 4, 5, 3, 7, 8])"
      ]
     },
     "execution_count": 34,
     "metadata": {},
     "output_type": "execute_result"
    }
   ],
   "source": [
    "#Approach-3\n",
    "k=3\n",
    "n=8\n",
    "s=arr.array('i',[1,2,3,4,5,6,7,8])\n",
    "\n",
    "s[k-1],s[-k]=s[-k],s[k-1]\n",
    "s"
   ]
  },
  {
   "cell_type": "code",
   "execution_count": 6,
   "id": "0334b913",
   "metadata": {},
   "outputs": [
    {
     "name": "stdout",
     "output_type": "stream",
     "text": [
      "array('i', [5, 1, 6, 3, 2])\n"
     ]
    }
   ],
   "source": [
    "import array as arr\n",
    "\n",
    "n = 5\n",
    "k = 2\n",
    "s = arr.array('i', [5, 3, 6, 1, 2])\n",
    "\n",
    "# Output: {5, 1, 6, 3, 2}\n",
    "fi = k - 1\n",
    "lst = n - k\n",
    "\n",
    "# Swap elements using index notation\n",
    "s[fi], s[lst] = s[lst], s[fi]\n",
    "\n",
    "print(s)  # Output: array('i', [5, 1, 6, 3, 2])\n"
   ]
  },
  {
   "cell_type": "code",
   "execution_count": 2,
   "id": "c4c00d4c",
   "metadata": {},
   "outputs": [
    {
     "name": "stdout",
     "output_type": "stream",
     "text": [
      "array('i', [5, 1, 6, 3, 2])\n"
     ]
    }
   ],
   "source": [
    "#Approach-5\n",
    "import array as arr\n",
    "\n",
    "n = 5\n",
    "k = 2\n",
    "s = arr.array('i', [5, 3, 6, 1, 2])\n",
    "\n",
    "# Output: {5, 1, 6, 3, 2}\n",
    "fi = k - 1\n",
    "lst = n - k\n",
    "\n",
    "# Swap elements using index notation\n",
    "s[fi], s[lst] = s[lst], s[fi]\n",
    "\n",
    "print(s)  # Output: array('i', [5, 1, 6, 3, 2])\n"
   ]
  },
  {
   "cell_type": "code",
   "execution_count": null,
   "id": "4954ba87",
   "metadata": {},
   "outputs": [],
   "source": []
  }
 ],
 "metadata": {
  "kernelspec": {
   "display_name": "Python 3 (ipykernel)",
   "language": "python",
   "name": "python3"
  },
  "language_info": {
   "codemirror_mode": {
    "name": "ipython",
    "version": 3
   },
   "file_extension": ".py",
   "mimetype": "text/x-python",
   "name": "python",
   "nbconvert_exporter": "python",
   "pygments_lexer": "ipython3",
   "version": "3.9.13"
  }
 },
 "nbformat": 4,
 "nbformat_minor": 5
}
